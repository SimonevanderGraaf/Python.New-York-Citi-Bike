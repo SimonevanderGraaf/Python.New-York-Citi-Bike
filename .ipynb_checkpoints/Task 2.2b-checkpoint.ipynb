{
 "cells": [
  {
   "cell_type": "markdown",
   "id": "32ce60be-ad15-409b-acb2-159736c1f4b2",
   "metadata": {},
   "source": [
    "# 2.2 Project Planning and Sourcing Data with an API\n",
    "## Table of Contents:\n",
    "### 1. Installing libraries\n",
    "### 2. Importing libraries and datasets\n",
    "### 3. Get weather data using NOAA's API\n",
    "### 4. Merge the bike and weather datasets"
   ]
  },
  {
   "cell_type": "markdown",
   "id": "192f1642-3a4b-4f5b-a7bd-8b60752c7139",
   "metadata": {},
   "source": [
    "### 1. Installing libraries"
   ]
  },
  {
   "cell_type": "code",
   "execution_count": 2,
   "id": "b9ae56bf-0958-43f4-8e12-cba2281303b7",
   "metadata": {},
   "outputs": [
    {
     "name": "stdout",
     "output_type": "stream",
     "text": [
      "Collecting pandas==1.5.1\n",
      "  Using cached pandas-1.5.1-cp311-cp311-win_amd64.whl.metadata (11 kB)\n",
      "Requirement already satisfied: python-dateutil>=2.8.1 in c:\\users\\svand\\anaconda3\\envs\\citibike_2022\\lib\\site-packages (from pandas==1.5.1) (2.9.0.post0)\n",
      "Requirement already satisfied: pytz>=2020.1 in c:\\users\\svand\\anaconda3\\envs\\citibike_2022\\lib\\site-packages (from pandas==1.5.1) (2024.1)\n",
      "Collecting numpy>=1.21.0 (from pandas==1.5.1)\n",
      "  Using cached numpy-2.0.0-cp311-cp311-win_amd64.whl.metadata (60 kB)\n",
      "Requirement already satisfied: six>=1.5 in c:\\users\\svand\\anaconda3\\envs\\citibike_2022\\lib\\site-packages (from python-dateutil>=2.8.1->pandas==1.5.1) (1.16.0)\n",
      "Using cached pandas-1.5.1-cp311-cp311-win_amd64.whl (10.3 MB)\n",
      "Using cached numpy-2.0.0-cp311-cp311-win_amd64.whl (16.5 MB)\n",
      "Installing collected packages: numpy, pandas\n",
      "Successfully installed numpy-2.0.0 pandas-1.5.1\n",
      "Note: you may need to restart the kernel to use updated packages.\n"
     ]
    }
   ],
   "source": [
    "pip install pandas==1.5.1"
   ]
  },
  {
   "cell_type": "code",
   "execution_count": 3,
   "id": "1433f833-84a7-48cd-bcde-ed5e52d57201",
   "metadata": {},
   "outputs": [
    {
     "name": "stdout",
     "output_type": "stream",
     "text": [
      "Requirement already satisfied: requests==2.32.2 in c:\\users\\svand\\anaconda3\\envs\\citibike_2022\\lib\\site-packages (2.32.2)\n",
      "Requirement already satisfied: charset-normalizer<4,>=2 in c:\\users\\svand\\anaconda3\\envs\\citibike_2022\\lib\\site-packages (from requests==2.32.2) (2.0.4)\n",
      "Requirement already satisfied: idna<4,>=2.5 in c:\\users\\svand\\anaconda3\\envs\\citibike_2022\\lib\\site-packages (from requests==2.32.2) (3.7)\n",
      "Requirement already satisfied: urllib3<3,>=1.21.1 in c:\\users\\svand\\anaconda3\\envs\\citibike_2022\\lib\\site-packages (from requests==2.32.2) (2.2.1)\n",
      "Requirement already satisfied: certifi>=2017.4.17 in c:\\users\\svand\\anaconda3\\envs\\citibike_2022\\lib\\site-packages (from requests==2.32.2) (2024.6.2)\n",
      "Note: you may need to restart the kernel to use updated packages.\n"
     ]
    }
   ],
   "source": [
    "pip install requests==2.32.2"
   ]
  },
  {
   "cell_type": "markdown",
   "id": "99ddc158-f07a-4955-95f8-a55a18544c8d",
   "metadata": {},
   "source": [
    "### 2. Importing libraries and datasets"
   ]
  },
  {
   "cell_type": "code",
   "execution_count": 38,
   "id": "89981f45-24d0-479a-a0b2-d9f0a3d6c6e0",
   "metadata": {},
   "outputs": [],
   "source": [
    "import pandas as pd \n",
    "import numpy as np\n",
    "import os \n",
    "import requests\n",
    "import json\n",
    "from datetime import datetime"
   ]
  },
  {
   "cell_type": "code",
   "execution_count": 39,
   "id": "04a8e8fa-17ca-4572-8efc-ddc5e3bd6b25",
   "metadata": {},
   "outputs": [],
   "source": [
    "# Create a list with all files in the folder using a list compehension\n",
    "\n",
    "folderpath = r\"Data\" \n",
    "filepaths  = [os.path.join(folderpath, name) for name in os.listdir(folderpath)]"
   ]
  },
  {
   "cell_type": "code",
   "execution_count": 40,
   "id": "1268ac30-73ab-4983-9620-724cb3d9a9cb",
   "metadata": {},
   "outputs": [
    {
     "data": {
      "text/plain": [
       "['Data\\\\202201-citibike-tripdata_1.csv',\n",
       " 'Data\\\\202201-citibike-tripdata_2.csv',\n",
       " 'Data\\\\202202-citibike-tripdata_1.csv',\n",
       " 'Data\\\\202202-citibike-tripdata_2.csv',\n",
       " 'Data\\\\202203-citibike-tripdata_1.csv',\n",
       " 'Data\\\\202203-citibike-tripdata_2.csv',\n",
       " 'Data\\\\202204-citibike-tripdata_1.csv',\n",
       " 'Data\\\\202204-citibike-tripdata_2.csv',\n",
       " 'Data\\\\202204-citibike-tripdata_3.csv',\n",
       " 'Data\\\\202205-citibike-tripdata_1.csv',\n",
       " 'Data\\\\202205-citibike-tripdata_2.csv',\n",
       " 'Data\\\\202205-citibike-tripdata_3.csv',\n",
       " 'Data\\\\202206-citbike-tripdata_1.csv',\n",
       " 'Data\\\\202206-citbike-tripdata_2.csv',\n",
       " 'Data\\\\202206-citbike-tripdata_3.csv',\n",
       " 'Data\\\\202206-citbike-tripdata_4.csv',\n",
       " 'Data\\\\202207-citbike-tripdata_1.csv',\n",
       " 'Data\\\\202207-citbike-tripdata_2.csv',\n",
       " 'Data\\\\202207-citbike-tripdata_3.csv',\n",
       " 'Data\\\\202207-citbike-tripdata_4.csv',\n",
       " 'Data\\\\202208-citibike-tripdata_1.csv',\n",
       " 'Data\\\\202208-citibike-tripdata_2.csv',\n",
       " 'Data\\\\202208-citibike-tripdata_3.csv',\n",
       " 'Data\\\\202208-citibike-tripdata_4.csv',\n",
       " 'Data\\\\202209-citibike-tripdata_1.csv',\n",
       " 'Data\\\\202209-citibike-tripdata_2.csv',\n",
       " 'Data\\\\202209-citibike-tripdata_3.csv',\n",
       " 'Data\\\\202209-citibike-tripdata_4.csv',\n",
       " 'Data\\\\202210-citibike-tripdata_1.csv',\n",
       " 'Data\\\\202210-citibike-tripdata_2.csv',\n",
       " 'Data\\\\202210-citibike-tripdata_3.csv',\n",
       " 'Data\\\\202210-citibike-tripdata_4.csv',\n",
       " 'Data\\\\202211-citibike-tripdata_1.csv',\n",
       " 'Data\\\\202211-citibike-tripdata_2.csv',\n",
       " 'Data\\\\202211-citibike-tripdata_3.csv',\n",
       " 'Data\\\\202212-citibike-tripdata_1.csv',\n",
       " 'Data\\\\202212-citibike-tripdata_2.csv']"
      ]
     },
     "execution_count": 40,
     "metadata": {},
     "output_type": "execute_result"
    }
   ],
   "source": [
    "filepaths"
   ]
  },
  {
   "cell_type": "code",
   "execution_count": null,
   "id": "a59cc7de-ac49-4ed7-a4b3-dd3a3b4a8168",
   "metadata": {},
   "outputs": [],
   "source": [
    "# Read and concatenate all files simultaneously\n",
    "df = pd.concat((pd.read_csv(f) for f in filepaths), ignore_index = True)"
   ]
  },
  {
   "cell_type": "markdown",
   "id": "3765e849-44c9-4f11-8166-12859f793140",
   "metadata": {},
   "source": [
    "# Tutor Code starts here"
   ]
  },
  {
   "cell_type": "code",
   "execution_count": 41,
   "id": "48e9fbfb-55aa-4555-af65-15fde5cf6a45",
   "metadata": {},
   "outputs": [],
   "source": [
    "filepaths_1 = filepaths[:2]\n",
    "filepaths_2 = filepaths[21:28]"
   ]
  },
  {
   "cell_type": "code",
   "execution_count": 42,
   "id": "10fb1280-f4f0-4531-98c8-389a6cda3640",
   "metadata": {},
   "outputs": [
    {
     "data": {
      "text/plain": [
       "['Data\\\\202201-citibike-tripdata_1.csv',\n",
       " 'Data\\\\202201-citibike-tripdata_2.csv']"
      ]
     },
     "execution_count": 42,
     "metadata": {},
     "output_type": "execute_result"
    }
   ],
   "source": [
    "filepaths_1"
   ]
  },
  {
   "cell_type": "code",
   "execution_count": 21,
   "id": "d143c60e-1f2c-41f1-91e3-88599368df4c",
   "metadata": {},
   "outputs": [
    {
     "data": {
      "text/plain": [
       "['Data\\\\202208-citibike-tripdata_2.csv',\n",
       " 'Data\\\\202208-citibike-tripdata_3.csv',\n",
       " 'Data\\\\202208-citibike-tripdata_4.csv',\n",
       " 'Data\\\\202209-citibike-tripdata_1.csv',\n",
       " 'Data\\\\202209-citibike-tripdata_2.csv',\n",
       " 'Data\\\\202209-citibike-tripdata_3.csv',\n",
       " 'Data\\\\202209-citibike-tripdata_4.csv',\n",
       " 'Data\\\\202210-citibike-tripdata_1.csv']"
      ]
     },
     "execution_count": 21,
     "metadata": {},
     "output_type": "execute_result"
    }
   ],
   "source": [
    "filepaths_2"
   ]
  },
  {
   "cell_type": "code",
   "execution_count": 43,
   "id": "2da7ea73-5c9a-4d79-874b-db93d071f8a8",
   "metadata": {},
   "outputs": [
    {
     "name": "stderr",
     "output_type": "stream",
     "text": [
      "C:\\Users\\svand\\AppData\\Local\\Temp\\ipykernel_18032\\1996494879.py:2: DtypeWarning: Columns (5,7) have mixed types. Specify dtype option on import or set low_memory=False.\n",
      "  df_1 = pd.concat((pd.read_csv(f) for f in filepaths_1), ignore_index = True)\n"
     ]
    }
   ],
   "source": [
    "# Read and concatenate all files simultaneously\n",
    "df_1 = pd.concat((pd.read_csv(f) for f in filepaths_1), ignore_index = True)"
   ]
  },
  {
   "cell_type": "code",
   "execution_count": null,
   "id": "0ec40463-10f2-4e07-8dc5-799e07a1b19a",
   "metadata": {
    "scrolled": true
   },
   "outputs": [],
   "source": [
    "# Read and concatenate all files simultaneously\n",
    "df_2 = pd.concat((pd.read_csv(f) for f in filepaths_2), ignore_index = True)"
   ]
  },
  {
   "cell_type": "code",
   "execution_count": null,
   "id": "6d5d4887-e8de-4b4c-b2aa-c10ea7b5b51c",
   "metadata": {},
   "outputs": [],
   "source": [
    "df = pd.concat([df_1,df_2])"
   ]
  },
  {
   "cell_type": "code",
   "execution_count": 13,
   "id": "f13390a8-b9e2-40ef-a522-193aa11fa3bf",
   "metadata": {},
   "outputs": [
    {
     "ename": "NameError",
     "evalue": "name 'df' is not defined",
     "output_type": "error",
     "traceback": [
      "\u001b[1;31m---------------------------------------------------------------------------\u001b[0m",
      "\u001b[1;31mNameError\u001b[0m                                 Traceback (most recent call last)",
      "Cell \u001b[1;32mIn[13], line 1\u001b[0m\n\u001b[1;32m----> 1\u001b[0m df\u001b[38;5;241m.\u001b[39mshape\n",
      "\u001b[1;31mNameError\u001b[0m: name 'df' is not defined"
     ]
    }
   ],
   "source": [
    "df.shape"
   ]
  },
  {
   "cell_type": "code",
   "execution_count": 44,
   "id": "6d08cbdf-8e28-4907-8293-53bce1ef56e7",
   "metadata": {},
   "outputs": [
    {
     "data": {
      "text/html": [
       "<div>\n",
       "<style scoped>\n",
       "    .dataframe tbody tr th:only-of-type {\n",
       "        vertical-align: middle;\n",
       "    }\n",
       "\n",
       "    .dataframe tbody tr th {\n",
       "        vertical-align: top;\n",
       "    }\n",
       "\n",
       "    .dataframe thead th {\n",
       "        text-align: right;\n",
       "    }\n",
       "</style>\n",
       "<table border=\"1\" class=\"dataframe\">\n",
       "  <thead>\n",
       "    <tr style=\"text-align: right;\">\n",
       "      <th></th>\n",
       "      <th>ride_id</th>\n",
       "      <th>rideable_type</th>\n",
       "      <th>started_at</th>\n",
       "      <th>ended_at</th>\n",
       "      <th>start_station_name</th>\n",
       "      <th>start_station_id</th>\n",
       "      <th>end_station_name</th>\n",
       "      <th>end_station_id</th>\n",
       "      <th>start_lat</th>\n",
       "      <th>start_lng</th>\n",
       "      <th>end_lat</th>\n",
       "      <th>end_lng</th>\n",
       "      <th>member_casual</th>\n",
       "    </tr>\n",
       "  </thead>\n",
       "  <tbody>\n",
       "    <tr>\n",
       "      <th>0</th>\n",
       "      <td>55262E4365A955A2</td>\n",
       "      <td>classic_bike</td>\n",
       "      <td>2022-01-18 08:23:52</td>\n",
       "      <td>2022-01-18 08:28:18</td>\n",
       "      <td>Boerum Pl\\t&amp; Pacific St</td>\n",
       "      <td>4488.09</td>\n",
       "      <td>Clinton St &amp; Joralemon St</td>\n",
       "      <td>4605.04</td>\n",
       "      <td>40.688489</td>\n",
       "      <td>-73.991160</td>\n",
       "      <td>40.692395</td>\n",
       "      <td>-73.993379</td>\n",
       "      <td>member</td>\n",
       "    </tr>\n",
       "    <tr>\n",
       "      <th>1</th>\n",
       "      <td>D272F1B15D841EC0</td>\n",
       "      <td>classic_bike</td>\n",
       "      <td>2022-01-21 09:03:22</td>\n",
       "      <td>2022-01-21 09:05:44</td>\n",
       "      <td>E 12 St &amp; Ave C</td>\n",
       "      <td>5616.08</td>\n",
       "      <td>E 10 St &amp; Avenue A</td>\n",
       "      <td>5659.05</td>\n",
       "      <td>40.727243</td>\n",
       "      <td>-73.976831</td>\n",
       "      <td>40.727408</td>\n",
       "      <td>-73.981420</td>\n",
       "      <td>member</td>\n",
       "    </tr>\n",
       "    <tr>\n",
       "      <th>2</th>\n",
       "      <td>D1FCEF55EB4A807F</td>\n",
       "      <td>classic_bike</td>\n",
       "      <td>2022-01-22 14:28:32</td>\n",
       "      <td>2022-01-22 14:53:18</td>\n",
       "      <td>W 21 St &amp; 6 Ave</td>\n",
       "      <td>6140.05</td>\n",
       "      <td>W 44 St &amp; 11 Ave</td>\n",
       "      <td>6756.05</td>\n",
       "      <td>40.741740</td>\n",
       "      <td>-73.994156</td>\n",
       "      <td>40.762009</td>\n",
       "      <td>-73.996975</td>\n",
       "      <td>member</td>\n",
       "    </tr>\n",
       "  </tbody>\n",
       "</table>\n",
       "</div>"
      ],
      "text/plain": [
       "            ride_id rideable_type           started_at             ended_at  \\\n",
       "0  55262E4365A955A2  classic_bike  2022-01-18 08:23:52  2022-01-18 08:28:18   \n",
       "1  D272F1B15D841EC0  classic_bike  2022-01-21 09:03:22  2022-01-21 09:05:44   \n",
       "2  D1FCEF55EB4A807F  classic_bike  2022-01-22 14:28:32  2022-01-22 14:53:18   \n",
       "\n",
       "        start_station_name start_station_id           end_station_name  \\\n",
       "0  Boerum Pl\\t& Pacific St          4488.09  Clinton St & Joralemon St   \n",
       "1          E 12 St & Ave C          5616.08         E 10 St & Avenue A   \n",
       "2          W 21 St & 6 Ave          6140.05           W 44 St & 11 Ave   \n",
       "\n",
       "  end_station_id  start_lat  start_lng    end_lat    end_lng member_casual  \n",
       "0        4605.04  40.688489 -73.991160  40.692395 -73.993379        member  \n",
       "1        5659.05  40.727243 -73.976831  40.727408 -73.981420        member  \n",
       "2        6756.05  40.741740 -73.994156  40.762009 -73.996975        member  "
      ]
     },
     "execution_count": 44,
     "metadata": {},
     "output_type": "execute_result"
    }
   ],
   "source": [
    "df_1.head(3)"
   ]
  },
  {
   "cell_type": "code",
   "execution_count": 11,
   "id": "ebf38210-f681-407a-b9fc-268ba66c0e5a",
   "metadata": {},
   "outputs": [
    {
     "data": {
      "text/plain": [
       "'448809'"
      ]
     },
     "execution_count": 11,
     "metadata": {},
     "output_type": "execute_result"
    }
   ],
   "source": [
    "id = ['4488.09','5616.08']\n",
    "id_1 = id[0].split('.')\n",
    "#''.join(id_1)"
   ]
  },
  {
   "cell_type": "code",
   "execution_count": 45,
   "id": "8579f9e2-f6a1-4a0e-989f-47f172712bbb",
   "metadata": {},
   "outputs": [
    {
     "name": "stdout",
     "output_type": "stream",
     "text": [
      "<class 'pandas.core.frame.DataFrame'>\n",
      "RangeIndex: 1052418 entries, 0 to 1052417\n",
      "Data columns (total 13 columns):\n",
      " #   Column              Non-Null Count    Dtype  \n",
      "---  ------              --------------    -----  \n",
      " 0   ride_id             1052418 non-null  object \n",
      " 1   rideable_type       1052418 non-null  object \n",
      " 2   started_at          1052418 non-null  object \n",
      " 3   ended_at            1052418 non-null  object \n",
      " 4   start_station_name  1052418 non-null  object \n",
      " 5   start_station_id    1052418 non-null  object \n",
      " 6   end_station_name    1043187 non-null  object \n",
      " 7   end_station_id      1043187 non-null  object \n",
      " 8   start_lat           1052418 non-null  float64\n",
      " 9   start_lng           1052418 non-null  float64\n",
      " 10  end_lat             1045920 non-null  float64\n",
      " 11  end_lng             1045920 non-null  float64\n",
      " 12  member_casual       1052418 non-null  object \n",
      "dtypes: float64(4), object(9)\n",
      "memory usage: 104.4+ MB\n"
     ]
    }
   ],
   "source": [
    "df_1.info()"
   ]
  },
  {
   "cell_type": "code",
   "execution_count": 46,
   "id": "407f6f18-0e2d-46fb-934c-991d72c43c33",
   "metadata": {},
   "outputs": [],
   "source": [
    "# Convert both columns to a string data type\n",
    "df_1['start_station_id'] = df_1['start_station_id'].astype(str)\n",
    "df_1['end_station_id'] = df_1['end_station_id'].astype(str)"
   ]
  },
  {
   "cell_type": "code",
   "execution_count": 47,
   "id": "2a892d4b-7c61-4747-a711-66b505057de5",
   "metadata": {},
   "outputs": [
    {
     "name": "stdout",
     "output_type": "stream",
     "text": [
      "<class 'pandas.core.frame.DataFrame'>\n",
      "RangeIndex: 1052418 entries, 0 to 1052417\n",
      "Data columns (total 13 columns):\n",
      " #   Column              Non-Null Count    Dtype  \n",
      "---  ------              --------------    -----  \n",
      " 0   ride_id             1052418 non-null  object \n",
      " 1   rideable_type       1052418 non-null  object \n",
      " 2   started_at          1052418 non-null  object \n",
      " 3   ended_at            1052418 non-null  object \n",
      " 4   start_station_name  1052418 non-null  object \n",
      " 5   start_station_id    1052418 non-null  object \n",
      " 6   end_station_name    1043187 non-null  object \n",
      " 7   end_station_id      1052418 non-null  object \n",
      " 8   start_lat           1052418 non-null  float64\n",
      " 9   start_lng           1052418 non-null  float64\n",
      " 10  end_lat             1045920 non-null  float64\n",
      " 11  end_lng             1045920 non-null  float64\n",
      " 12  member_casual       1052418 non-null  object \n",
      "dtypes: float64(4), object(9)\n",
      "memory usage: 104.4+ MB\n"
     ]
    }
   ],
   "source": [
    "df_1.info()"
   ]
  },
  {
   "cell_type": "code",
   "execution_count": 48,
   "id": "019bc652-68bf-4970-836b-99b4faaf4e8f",
   "metadata": {},
   "outputs": [
    {
     "data": {
      "text/html": [
       "<div>\n",
       "<style scoped>\n",
       "    .dataframe tbody tr th:only-of-type {\n",
       "        vertical-align: middle;\n",
       "    }\n",
       "\n",
       "    .dataframe tbody tr th {\n",
       "        vertical-align: top;\n",
       "    }\n",
       "\n",
       "    .dataframe thead th {\n",
       "        text-align: right;\n",
       "    }\n",
       "</style>\n",
       "<table border=\"1\" class=\"dataframe\">\n",
       "  <thead>\n",
       "    <tr style=\"text-align: right;\">\n",
       "      <th></th>\n",
       "      <th>ride_id</th>\n",
       "      <th>rideable_type</th>\n",
       "      <th>started_at</th>\n",
       "      <th>ended_at</th>\n",
       "      <th>start_station_name</th>\n",
       "      <th>start_station_id</th>\n",
       "      <th>end_station_name</th>\n",
       "      <th>end_station_id</th>\n",
       "      <th>start_lat</th>\n",
       "      <th>start_lng</th>\n",
       "      <th>end_lat</th>\n",
       "      <th>end_lng</th>\n",
       "      <th>member_casual</th>\n",
       "    </tr>\n",
       "  </thead>\n",
       "  <tbody>\n",
       "    <tr>\n",
       "      <th>0</th>\n",
       "      <td>55262E4365A955A2</td>\n",
       "      <td>classic_bike</td>\n",
       "      <td>2022-01-18 08:23:52</td>\n",
       "      <td>2022-01-18 08:28:18</td>\n",
       "      <td>Boerum Pl\\t&amp; Pacific St</td>\n",
       "      <td>4488.09</td>\n",
       "      <td>Clinton St &amp; Joralemon St</td>\n",
       "      <td>4605.04</td>\n",
       "      <td>40.688489</td>\n",
       "      <td>-73.991160</td>\n",
       "      <td>40.692395</td>\n",
       "      <td>-73.993379</td>\n",
       "      <td>member</td>\n",
       "    </tr>\n",
       "    <tr>\n",
       "      <th>1</th>\n",
       "      <td>D272F1B15D841EC0</td>\n",
       "      <td>classic_bike</td>\n",
       "      <td>2022-01-21 09:03:22</td>\n",
       "      <td>2022-01-21 09:05:44</td>\n",
       "      <td>E 12 St &amp; Ave C</td>\n",
       "      <td>5616.08</td>\n",
       "      <td>E 10 St &amp; Avenue A</td>\n",
       "      <td>5659.05</td>\n",
       "      <td>40.727243</td>\n",
       "      <td>-73.976831</td>\n",
       "      <td>40.727408</td>\n",
       "      <td>-73.981420</td>\n",
       "      <td>member</td>\n",
       "    </tr>\n",
       "    <tr>\n",
       "      <th>2</th>\n",
       "      <td>D1FCEF55EB4A807F</td>\n",
       "      <td>classic_bike</td>\n",
       "      <td>2022-01-22 14:28:32</td>\n",
       "      <td>2022-01-22 14:53:18</td>\n",
       "      <td>W 21 St &amp; 6 Ave</td>\n",
       "      <td>6140.05</td>\n",
       "      <td>W 44 St &amp; 11 Ave</td>\n",
       "      <td>6756.05</td>\n",
       "      <td>40.741740</td>\n",
       "      <td>-73.994156</td>\n",
       "      <td>40.762009</td>\n",
       "      <td>-73.996975</td>\n",
       "      <td>member</td>\n",
       "    </tr>\n",
       "    <tr>\n",
       "      <th>3</th>\n",
       "      <td>E9CBDC6A0162C068</td>\n",
       "      <td>electric_bike</td>\n",
       "      <td>2022-01-19 14:49:47</td>\n",
       "      <td>2022-01-19 14:54:02</td>\n",
       "      <td>38 St &amp; 30 Ave</td>\n",
       "      <td>6850.01</td>\n",
       "      <td>Crescent St &amp; 30 Ave</td>\n",
       "      <td>6958.06</td>\n",
       "      <td>40.764175</td>\n",
       "      <td>-73.915840</td>\n",
       "      <td>40.768692</td>\n",
       "      <td>-73.924957</td>\n",
       "      <td>member</td>\n",
       "    </tr>\n",
       "    <tr>\n",
       "      <th>4</th>\n",
       "      <td>2177A5B57326CE9B</td>\n",
       "      <td>electric_bike</td>\n",
       "      <td>2022-01-16 14:36:06</td>\n",
       "      <td>2022-01-16 14:44:06</td>\n",
       "      <td>Pacific St &amp; Nevins St</td>\n",
       "      <td>4362.04</td>\n",
       "      <td>Clinton St &amp; Tillary St</td>\n",
       "      <td>4748.07</td>\n",
       "      <td>40.685376</td>\n",
       "      <td>-73.983021</td>\n",
       "      <td>40.696233</td>\n",
       "      <td>-73.991421</td>\n",
       "      <td>member</td>\n",
       "    </tr>\n",
       "  </tbody>\n",
       "</table>\n",
       "</div>"
      ],
      "text/plain": [
       "            ride_id  rideable_type           started_at             ended_at  \\\n",
       "0  55262E4365A955A2   classic_bike  2022-01-18 08:23:52  2022-01-18 08:28:18   \n",
       "1  D272F1B15D841EC0   classic_bike  2022-01-21 09:03:22  2022-01-21 09:05:44   \n",
       "2  D1FCEF55EB4A807F   classic_bike  2022-01-22 14:28:32  2022-01-22 14:53:18   \n",
       "3  E9CBDC6A0162C068  electric_bike  2022-01-19 14:49:47  2022-01-19 14:54:02   \n",
       "4  2177A5B57326CE9B  electric_bike  2022-01-16 14:36:06  2022-01-16 14:44:06   \n",
       "\n",
       "        start_station_name start_station_id           end_station_name  \\\n",
       "0  Boerum Pl\\t& Pacific St          4488.09  Clinton St & Joralemon St   \n",
       "1          E 12 St & Ave C          5616.08         E 10 St & Avenue A   \n",
       "2          W 21 St & 6 Ave          6140.05           W 44 St & 11 Ave   \n",
       "3           38 St & 30 Ave          6850.01       Crescent St & 30 Ave   \n",
       "4   Pacific St & Nevins St          4362.04    Clinton St & Tillary St   \n",
       "\n",
       "  end_station_id  start_lat  start_lng    end_lat    end_lng member_casual  \n",
       "0        4605.04  40.688489 -73.991160  40.692395 -73.993379        member  \n",
       "1        5659.05  40.727243 -73.976831  40.727408 -73.981420        member  \n",
       "2        6756.05  40.741740 -73.994156  40.762009 -73.996975        member  \n",
       "3        6958.06  40.764175 -73.915840  40.768692 -73.924957        member  \n",
       "4        4748.07  40.685376 -73.983021  40.696233 -73.991421        member  "
      ]
     },
     "execution_count": 48,
     "metadata": {},
     "output_type": "execute_result"
    }
   ],
   "source": [
    "df_1.head()"
   ]
  },
  {
   "cell_type": "code",
   "execution_count": 51,
   "id": "8f1acc9b-ca17-4ea0-abdf-ad6429229e4b",
   "metadata": {},
   "outputs": [
    {
     "data": {
      "text/plain": [
       "(1052418, 13)"
      ]
     },
     "execution_count": 51,
     "metadata": {},
     "output_type": "execute_result"
    }
   ],
   "source": [
    "df_1.shape"
   ]
  },
  {
   "cell_type": "code",
   "execution_count": 53,
   "id": "437bfb22-8b8f-496b-a00f-334ad5514a32",
   "metadata": {},
   "outputs": [],
   "source": [
    "# filter out all rows from both start_station_id and end_station_id columns that does not contain points\n",
    "df = df_1[~df_1['start_station_id'].str.contains('\\.') & ~df_1['end_station_id'].str.contains('\\.')]"
   ]
  },
  {
   "cell_type": "code",
   "execution_count": null,
   "id": "79c01bbb",
   "metadata": {},
   "outputs": [],
   "source": [
    "# Convert both columns to a string data type\n",
    "df_1['start_station_id'] = df_1['start_station_id'].astype(str)\n",
    "df_1['end_station_id'] = df_1['end_station_id'].astype(str)"
   ]
  },
  {
   "cell_type": "code",
   "execution_count": 54,
   "id": "6ca96a63-58e5-4456-81e6-a8acea1a5422",
   "metadata": {},
   "outputs": [
    {
     "data": {
      "text/plain": [
       "(7, 13)"
      ]
     },
     "execution_count": 54,
     "metadata": {},
     "output_type": "execute_result"
    }
   ],
   "source": [
    "new_df.shape"
   ]
  },
  {
   "cell_type": "code",
   "execution_count": 52,
   "id": "673e496f-96d6-41bd-8aa1-2f7d01649165",
   "metadata": {},
   "outputs": [
    {
     "data": {
      "text/html": [
       "<div>\n",
       "<style scoped>\n",
       "    .dataframe tbody tr th:only-of-type {\n",
       "        vertical-align: middle;\n",
       "    }\n",
       "\n",
       "    .dataframe tbody tr th {\n",
       "        vertical-align: top;\n",
       "    }\n",
       "\n",
       "    .dataframe thead th {\n",
       "        text-align: right;\n",
       "    }\n",
       "</style>\n",
       "<table border=\"1\" class=\"dataframe\">\n",
       "  <thead>\n",
       "    <tr style=\"text-align: right;\">\n",
       "      <th></th>\n",
       "      <th>ride_id</th>\n",
       "      <th>rideable_type</th>\n",
       "      <th>started_at</th>\n",
       "      <th>ended_at</th>\n",
       "      <th>start_station_name</th>\n",
       "      <th>start_station_id</th>\n",
       "      <th>end_station_name</th>\n",
       "      <th>end_station_id</th>\n",
       "      <th>start_lat</th>\n",
       "      <th>start_lng</th>\n",
       "      <th>end_lat</th>\n",
       "      <th>end_lng</th>\n",
       "      <th>member_casual</th>\n",
       "    </tr>\n",
       "  </thead>\n",
       "  <tbody>\n",
       "    <tr>\n",
       "      <th>334910</th>\n",
       "      <td>97BE6D001F65E203</td>\n",
       "      <td>classic_bike</td>\n",
       "      <td>2022-01-26 14:54:50</td>\n",
       "      <td>2022-01-26 14:55:03</td>\n",
       "      <td>Lab - NYC</td>\n",
       "      <td>Lab - NYC</td>\n",
       "      <td>Lab - NYC</td>\n",
       "      <td>Lab - NYC</td>\n",
       "      <td>40.753650</td>\n",
       "      <td>-73.996629</td>\n",
       "      <td>40.75404</td>\n",
       "      <td>-73.996466</td>\n",
       "      <td>member</td>\n",
       "    </tr>\n",
       "    <tr>\n",
       "      <th>335064</th>\n",
       "      <td>2BB97F62637347E6</td>\n",
       "      <td>classic_bike</td>\n",
       "      <td>2022-01-26 13:12:44</td>\n",
       "      <td>2022-01-26 13:12:58</td>\n",
       "      <td>Lab - NYC</td>\n",
       "      <td>Lab - NYC</td>\n",
       "      <td>Lab - NYC</td>\n",
       "      <td>Lab - NYC</td>\n",
       "      <td>40.753653</td>\n",
       "      <td>-73.996616</td>\n",
       "      <td>40.75404</td>\n",
       "      <td>-73.996466</td>\n",
       "      <td>member</td>\n",
       "    </tr>\n",
       "    <tr>\n",
       "      <th>335065</th>\n",
       "      <td>9624AC65344E2C65</td>\n",
       "      <td>classic_bike</td>\n",
       "      <td>2022-01-26 12:59:49</td>\n",
       "      <td>2022-01-26 13:00:25</td>\n",
       "      <td>Lab - NYC</td>\n",
       "      <td>Lab - NYC</td>\n",
       "      <td>Lab - NYC</td>\n",
       "      <td>Lab - NYC</td>\n",
       "      <td>40.753683</td>\n",
       "      <td>-73.996418</td>\n",
       "      <td>40.75404</td>\n",
       "      <td>-73.996466</td>\n",
       "      <td>member</td>\n",
       "    </tr>\n",
       "    <tr>\n",
       "      <th>335066</th>\n",
       "      <td>A5CE9A166ADD035C</td>\n",
       "      <td>classic_bike</td>\n",
       "      <td>2022-01-26 13:48:13</td>\n",
       "      <td>2022-01-26 13:49:12</td>\n",
       "      <td>Lab - NYC</td>\n",
       "      <td>Lab - NYC</td>\n",
       "      <td>Lab - NYC</td>\n",
       "      <td>Lab - NYC</td>\n",
       "      <td>40.753671</td>\n",
       "      <td>-73.996549</td>\n",
       "      <td>40.75404</td>\n",
       "      <td>-73.996466</td>\n",
       "      <td>member</td>\n",
       "    </tr>\n",
       "    <tr>\n",
       "      <th>335296</th>\n",
       "      <td>E7FF417AF04A6E61</td>\n",
       "      <td>classic_bike</td>\n",
       "      <td>2022-01-26 15:35:02</td>\n",
       "      <td>2022-01-26 15:37:53</td>\n",
       "      <td>Lab - NYC</td>\n",
       "      <td>Lab - NYC</td>\n",
       "      <td>Lab - NYC</td>\n",
       "      <td>Lab - NYC</td>\n",
       "      <td>40.753985</td>\n",
       "      <td>-73.996656</td>\n",
       "      <td>40.75404</td>\n",
       "      <td>-73.996466</td>\n",
       "      <td>member</td>\n",
       "    </tr>\n",
       "  </tbody>\n",
       "</table>\n",
       "</div>"
      ],
      "text/plain": [
       "                 ride_id rideable_type           started_at  \\\n",
       "334910  97BE6D001F65E203  classic_bike  2022-01-26 14:54:50   \n",
       "335064  2BB97F62637347E6  classic_bike  2022-01-26 13:12:44   \n",
       "335065  9624AC65344E2C65  classic_bike  2022-01-26 12:59:49   \n",
       "335066  A5CE9A166ADD035C  classic_bike  2022-01-26 13:48:13   \n",
       "335296  E7FF417AF04A6E61  classic_bike  2022-01-26 15:35:02   \n",
       "\n",
       "                   ended_at start_station_name start_station_id  \\\n",
       "334910  2022-01-26 14:55:03          Lab - NYC        Lab - NYC   \n",
       "335064  2022-01-26 13:12:58          Lab - NYC        Lab - NYC   \n",
       "335065  2022-01-26 13:00:25          Lab - NYC        Lab - NYC   \n",
       "335066  2022-01-26 13:49:12          Lab - NYC        Lab - NYC   \n",
       "335296  2022-01-26 15:37:53          Lab - NYC        Lab - NYC   \n",
       "\n",
       "       end_station_name end_station_id  start_lat  start_lng   end_lat  \\\n",
       "334910        Lab - NYC      Lab - NYC  40.753650 -73.996629  40.75404   \n",
       "335064        Lab - NYC      Lab - NYC  40.753653 -73.996616  40.75404   \n",
       "335065        Lab - NYC      Lab - NYC  40.753683 -73.996418  40.75404   \n",
       "335066        Lab - NYC      Lab - NYC  40.753671 -73.996549  40.75404   \n",
       "335296        Lab - NYC      Lab - NYC  40.753985 -73.996656  40.75404   \n",
       "\n",
       "          end_lng member_casual  \n",
       "334910 -73.996466        member  \n",
       "335064 -73.996466        member  \n",
       "335065 -73.996466        member  \n",
       "335066 -73.996466        member  \n",
       "335296 -73.996466        member  "
      ]
     },
     "execution_count": 52,
     "metadata": {},
     "output_type": "execute_result"
    }
   ],
   "source": [
    "new_df.head()"
   ]
  },
  {
   "cell_type": "code",
   "execution_count": null,
   "id": "a0659eec-7f21-4e88-ba8a-be2e2d134d6c",
   "metadata": {},
   "outputs": [],
   "source": [
    "# Split each rows by . and then join back\n",
    "new_df['start_station_id'] = new_df['start_station_id'].str.split('.').join('')\n",
    "new_df['end_station_id'] = new_dfdf['end_station_id'].str.split('.').join('')"
   ]
  },
  {
   "cell_type": "code",
   "execution_count": 11,
   "id": "9fe3f27b-e747-4de1-9aeb-764f3b9e8cd4",
   "metadata": {},
   "outputs": [
    {
     "data": {
      "text/html": [
       "<div>\n",
       "<style scoped>\n",
       "    .dataframe tbody tr th:only-of-type {\n",
       "        vertical-align: middle;\n",
       "    }\n",
       "\n",
       "    .dataframe tbody tr th {\n",
       "        vertical-align: top;\n",
       "    }\n",
       "\n",
       "    .dataframe thead th {\n",
       "        text-align: right;\n",
       "    }\n",
       "</style>\n",
       "<table border=\"1\" class=\"dataframe\">\n",
       "  <thead>\n",
       "    <tr style=\"text-align: right;\">\n",
       "      <th></th>\n",
       "      <th>ride_id</th>\n",
       "      <th>rideable_type</th>\n",
       "      <th>started_at</th>\n",
       "      <th>ended_at</th>\n",
       "      <th>start_station_name</th>\n",
       "      <th>start_station_id</th>\n",
       "      <th>end_station_name</th>\n",
       "      <th>end_station_id</th>\n",
       "      <th>start_lat</th>\n",
       "      <th>start_lng</th>\n",
       "      <th>end_lat</th>\n",
       "      <th>end_lng</th>\n",
       "      <th>member_casual</th>\n",
       "    </tr>\n",
       "  </thead>\n",
       "  <tbody>\n",
       "    <tr>\n",
       "      <th>0</th>\n",
       "      <td>55262E4365A955A2</td>\n",
       "      <td>classic_bike</td>\n",
       "      <td>2022-01-18 08:23:52</td>\n",
       "      <td>2022-01-18 08:28:18</td>\n",
       "      <td>Boerum Pl\\t&amp; Pacific St</td>\n",
       "      <td>4488.09</td>\n",
       "      <td>Clinton St &amp; Joralemon St</td>\n",
       "      <td>4605.04</td>\n",
       "      <td>40.688489</td>\n",
       "      <td>-73.991160</td>\n",
       "      <td>40.692395</td>\n",
       "      <td>-73.993379</td>\n",
       "      <td>member</td>\n",
       "    </tr>\n",
       "    <tr>\n",
       "      <th>1</th>\n",
       "      <td>D272F1B15D841EC0</td>\n",
       "      <td>classic_bike</td>\n",
       "      <td>2022-01-21 09:03:22</td>\n",
       "      <td>2022-01-21 09:05:44</td>\n",
       "      <td>E 12 St &amp; Ave C</td>\n",
       "      <td>5616.08</td>\n",
       "      <td>E 10 St &amp; Avenue A</td>\n",
       "      <td>5659.05</td>\n",
       "      <td>40.727243</td>\n",
       "      <td>-73.976831</td>\n",
       "      <td>40.727408</td>\n",
       "      <td>-73.981420</td>\n",
       "      <td>member</td>\n",
       "    </tr>\n",
       "    <tr>\n",
       "      <th>2</th>\n",
       "      <td>D1FCEF55EB4A807F</td>\n",
       "      <td>classic_bike</td>\n",
       "      <td>2022-01-22 14:28:32</td>\n",
       "      <td>2022-01-22 14:53:18</td>\n",
       "      <td>W 21 St &amp; 6 Ave</td>\n",
       "      <td>6140.05</td>\n",
       "      <td>W 44 St &amp; 11 Ave</td>\n",
       "      <td>6756.05</td>\n",
       "      <td>40.741740</td>\n",
       "      <td>-73.994156</td>\n",
       "      <td>40.762009</td>\n",
       "      <td>-73.996975</td>\n",
       "      <td>member</td>\n",
       "    </tr>\n",
       "    <tr>\n",
       "      <th>3</th>\n",
       "      <td>E9CBDC6A0162C068</td>\n",
       "      <td>electric_bike</td>\n",
       "      <td>2022-01-19 14:49:47</td>\n",
       "      <td>2022-01-19 14:54:02</td>\n",
       "      <td>38 St &amp; 30 Ave</td>\n",
       "      <td>6850.01</td>\n",
       "      <td>Crescent St &amp; 30 Ave</td>\n",
       "      <td>6958.06</td>\n",
       "      <td>40.764175</td>\n",
       "      <td>-73.915840</td>\n",
       "      <td>40.768692</td>\n",
       "      <td>-73.924957</td>\n",
       "      <td>member</td>\n",
       "    </tr>\n",
       "    <tr>\n",
       "      <th>4</th>\n",
       "      <td>2177A5B57326CE9B</td>\n",
       "      <td>electric_bike</td>\n",
       "      <td>2022-01-16 14:36:06</td>\n",
       "      <td>2022-01-16 14:44:06</td>\n",
       "      <td>Pacific St &amp; Nevins St</td>\n",
       "      <td>4362.04</td>\n",
       "      <td>Clinton St &amp; Tillary St</td>\n",
       "      <td>4748.07</td>\n",
       "      <td>40.685376</td>\n",
       "      <td>-73.983021</td>\n",
       "      <td>40.696233</td>\n",
       "      <td>-73.991421</td>\n",
       "      <td>member</td>\n",
       "    </tr>\n",
       "  </tbody>\n",
       "</table>\n",
       "</div>"
      ],
      "text/plain": [
       "            ride_id  rideable_type           started_at             ended_at  \\\n",
       "0  55262E4365A955A2   classic_bike  2022-01-18 08:23:52  2022-01-18 08:28:18   \n",
       "1  D272F1B15D841EC0   classic_bike  2022-01-21 09:03:22  2022-01-21 09:05:44   \n",
       "2  D1FCEF55EB4A807F   classic_bike  2022-01-22 14:28:32  2022-01-22 14:53:18   \n",
       "3  E9CBDC6A0162C068  electric_bike  2022-01-19 14:49:47  2022-01-19 14:54:02   \n",
       "4  2177A5B57326CE9B  electric_bike  2022-01-16 14:36:06  2022-01-16 14:44:06   \n",
       "\n",
       "        start_station_name start_station_id           end_station_name  \\\n",
       "0  Boerum Pl\\t& Pacific St          4488.09  Clinton St & Joralemon St   \n",
       "1          E 12 St & Ave C          5616.08         E 10 St & Avenue A   \n",
       "2          W 21 St & 6 Ave          6140.05           W 44 St & 11 Ave   \n",
       "3           38 St & 30 Ave          6850.01       Crescent St & 30 Ave   \n",
       "4   Pacific St & Nevins St          4362.04    Clinton St & Tillary St   \n",
       "\n",
       "  end_station_id  start_lat  start_lng    end_lat    end_lng member_casual  \n",
       "0        4605.04  40.688489 -73.991160  40.692395 -73.993379        member  \n",
       "1        5659.05  40.727243 -73.976831  40.727408 -73.981420        member  \n",
       "2        6756.05  40.741740 -73.994156  40.762009 -73.996975        member  \n",
       "3        6958.06  40.764175 -73.915840  40.768692 -73.924957        member  \n",
       "4        4748.07  40.685376 -73.983021  40.696233 -73.991421        member  "
      ]
     },
     "execution_count": 11,
     "metadata": {},
     "output_type": "execute_result"
    }
   ],
   "source": [
    "new_df.head()"
   ]
  },
  {
   "cell_type": "code",
   "execution_count": 12,
   "id": "7d9752eb-2f81-4ae5-b329-fefaa5427eea",
   "metadata": {},
   "outputs": [
    {
     "data": {
      "text/html": [
       "<div>\n",
       "<style scoped>\n",
       "    .dataframe tbody tr th:only-of-type {\n",
       "        vertical-align: middle;\n",
       "    }\n",
       "\n",
       "    .dataframe tbody tr th {\n",
       "        vertical-align: top;\n",
       "    }\n",
       "\n",
       "    .dataframe thead th {\n",
       "        text-align: right;\n",
       "    }\n",
       "</style>\n",
       "<table border=\"1\" class=\"dataframe\">\n",
       "  <thead>\n",
       "    <tr style=\"text-align: right;\">\n",
       "      <th></th>\n",
       "      <th>ride_id</th>\n",
       "      <th>rideable_type</th>\n",
       "      <th>started_at</th>\n",
       "      <th>ended_at</th>\n",
       "      <th>start_station_name</th>\n",
       "      <th>start_station_id</th>\n",
       "      <th>end_station_name</th>\n",
       "      <th>end_station_id</th>\n",
       "      <th>start_lat</th>\n",
       "      <th>start_lng</th>\n",
       "      <th>end_lat</th>\n",
       "      <th>end_lng</th>\n",
       "      <th>member_casual</th>\n",
       "    </tr>\n",
       "  </thead>\n",
       "  <tbody>\n",
       "    <tr>\n",
       "      <th>30689916</th>\n",
       "      <td>CB2EE50F60A58C7B</td>\n",
       "      <td>classic_bike</td>\n",
       "      <td>2022-12-12 08:38:46</td>\n",
       "      <td>2022-12-12 08:46:12</td>\n",
       "      <td>E 41 St &amp; Madison Ave (SW corner)</td>\n",
       "      <td>6474.12</td>\n",
       "      <td>6 Ave &amp; W 33 St</td>\n",
       "      <td>6364.07</td>\n",
       "      <td>40.752165</td>\n",
       "      <td>-73.979922</td>\n",
       "      <td>40.749013</td>\n",
       "      <td>-73.988484</td>\n",
       "      <td>member</td>\n",
       "    </tr>\n",
       "    <tr>\n",
       "      <th>30689917</th>\n",
       "      <td>3C0DF3280FEB1350</td>\n",
       "      <td>classic_bike</td>\n",
       "      <td>2022-12-12 13:06:32</td>\n",
       "      <td>2022-12-12 13:19:58</td>\n",
       "      <td>Peck Slip &amp; South St</td>\n",
       "      <td>5096.12</td>\n",
       "      <td>Vesey St &amp; Church St</td>\n",
       "      <td>5216.06</td>\n",
       "      <td>40.707689</td>\n",
       "      <td>-74.001254</td>\n",
       "      <td>40.712220</td>\n",
       "      <td>-74.010472</td>\n",
       "      <td>member</td>\n",
       "    </tr>\n",
       "    <tr>\n",
       "      <th>30689918</th>\n",
       "      <td>B916E63B630D5020</td>\n",
       "      <td>classic_bike</td>\n",
       "      <td>2022-12-18 01:15:22</td>\n",
       "      <td>2022-12-18 01:48:15</td>\n",
       "      <td>E 41 St &amp; Madison Ave (SW corner)</td>\n",
       "      <td>6474.12</td>\n",
       "      <td>Lenox Ave &amp; W 111 St</td>\n",
       "      <td>7602.05</td>\n",
       "      <td>40.752399</td>\n",
       "      <td>-73.980150</td>\n",
       "      <td>40.798786</td>\n",
       "      <td>-73.952300</td>\n",
       "      <td>member</td>\n",
       "    </tr>\n",
       "    <tr>\n",
       "      <th>30689919</th>\n",
       "      <td>21EAC007BE7D4161</td>\n",
       "      <td>classic_bike</td>\n",
       "      <td>2022-12-08 23:09:54</td>\n",
       "      <td>2022-12-08 23:26:37</td>\n",
       "      <td>W 37 St &amp; 10 Ave</td>\n",
       "      <td>6611.02</td>\n",
       "      <td>W 70 St &amp; Amsterdam Ave</td>\n",
       "      <td>7207.08</td>\n",
       "      <td>40.756604</td>\n",
       "      <td>-73.997901</td>\n",
       "      <td>40.777480</td>\n",
       "      <td>-73.982886</td>\n",
       "      <td>member</td>\n",
       "    </tr>\n",
       "    <tr>\n",
       "      <th>30689920</th>\n",
       "      <td>538408C4A16F4415</td>\n",
       "      <td>electric_bike</td>\n",
       "      <td>2022-12-21 07:26:14</td>\n",
       "      <td>2022-12-21 07:31:40</td>\n",
       "      <td>W 37 St &amp; 10 Ave</td>\n",
       "      <td>6611.02</td>\n",
       "      <td>6 Ave &amp; W 33 St</td>\n",
       "      <td>6364.07</td>\n",
       "      <td>40.756604</td>\n",
       "      <td>-73.997901</td>\n",
       "      <td>40.749013</td>\n",
       "      <td>-73.988484</td>\n",
       "      <td>member</td>\n",
       "    </tr>\n",
       "  </tbody>\n",
       "</table>\n",
       "</div>"
      ],
      "text/plain": [
       "                   ride_id  rideable_type           started_at  \\\n",
       "30689916  CB2EE50F60A58C7B   classic_bike  2022-12-12 08:38:46   \n",
       "30689917  3C0DF3280FEB1350   classic_bike  2022-12-12 13:06:32   \n",
       "30689918  B916E63B630D5020   classic_bike  2022-12-18 01:15:22   \n",
       "30689919  21EAC007BE7D4161   classic_bike  2022-12-08 23:09:54   \n",
       "30689920  538408C4A16F4415  electric_bike  2022-12-21 07:26:14   \n",
       "\n",
       "                     ended_at                 start_station_name  \\\n",
       "30689916  2022-12-12 08:46:12  E 41 St & Madison Ave (SW corner)   \n",
       "30689917  2022-12-12 13:19:58               Peck Slip & South St   \n",
       "30689918  2022-12-18 01:48:15  E 41 St & Madison Ave (SW corner)   \n",
       "30689919  2022-12-08 23:26:37                   W 37 St & 10 Ave   \n",
       "30689920  2022-12-21 07:31:40                   W 37 St & 10 Ave   \n",
       "\n",
       "         start_station_id         end_station_name end_station_id  start_lat  \\\n",
       "30689916          6474.12          6 Ave & W 33 St        6364.07  40.752165   \n",
       "30689917          5096.12     Vesey St & Church St        5216.06  40.707689   \n",
       "30689918          6474.12     Lenox Ave & W 111 St        7602.05  40.752399   \n",
       "30689919          6611.02  W 70 St & Amsterdam Ave        7207.08  40.756604   \n",
       "30689920          6611.02          6 Ave & W 33 St        6364.07  40.756604   \n",
       "\n",
       "          start_lng    end_lat    end_lng member_casual  \n",
       "30689916 -73.979922  40.749013 -73.988484        member  \n",
       "30689917 -74.001254  40.712220 -74.010472        member  \n",
       "30689918 -73.980150  40.798786 -73.952300        member  \n",
       "30689919 -73.997901  40.777480 -73.982886        member  \n",
       "30689920 -73.997901  40.749013 -73.988484        member  "
      ]
     },
     "execution_count": 12,
     "metadata": {},
     "output_type": "execute_result"
    }
   ],
   "source": [
    "df.tail()"
   ]
  },
  {
   "cell_type": "markdown",
   "id": "3b31edaa-dc56-44cf-9699-b24df99637a8",
   "metadata": {},
   "source": [
    "### The code I used to join the files is via a list comprehension. Because I created the file named \"Data\", where I put all datasets in, I could use this folder as the folderpath to loop through. This way it gathered all files (filepaths) from the folder and created a list from it. To read and join the data a generator is used that can handle a file once and one at a time. The joined data is shaped in a new dataframe"
   ]
  },
  {
   "cell_type": "markdown",
   "id": "6b828ee8-8ef5-499b-8046-c262fecbadf8",
   "metadata": {},
   "source": [
    "### 3. Get weather data using NOAA's API"
   ]
  },
  {
   "cell_type": "code",
   "execution_count": 13,
   "id": "1d294618-316d-45ff-ae6a-aac7b4a0ddfe",
   "metadata": {},
   "outputs": [],
   "source": [
    "# Define your NOAA token\n",
    "\n",
    "Token = 'UVzYSQYxiaavNWiwNwTUvOwDXptbgRaA'"
   ]
  },
  {
   "cell_type": "code",
   "execution_count": 14,
   "id": "cb2972b1-4e4e-450c-9e19-a18f834f466b",
   "metadata": {},
   "outputs": [],
   "source": [
    "# Get the API \n",
    "\n",
    "r = requests.get('https://www.ncdc.noaa.gov/cdo-web/api/v2/data?datasetid=GHCND&datatypeid=TAVG&limit=1000&stationid=GHCND:USW00014732&startdate=2022-01-01&enddate=2022-12-31', headers={'token':Token})"
   ]
  },
  {
   "cell_type": "code",
   "execution_count": 15,
   "id": "5c18f45e-af5a-4c57-97fc-536ff29bd2cc",
   "metadata": {},
   "outputs": [],
   "source": [
    "# Load the api response as a json\n",
    "\n",
    "d = json.loads(r.text)"
   ]
  },
  {
   "cell_type": "code",
   "execution_count": 16,
   "id": "93c745de-7d56-4ec4-be90-6be05ca3e068",
   "metadata": {},
   "outputs": [],
   "source": [
    "# Secure all items in the response that correspond to TAVG\n",
    "\n",
    "avg_temps = [item for item in d['results'] if item['datatype']=='TAVG']"
   ]
  },
  {
   "cell_type": "code",
   "execution_count": 17,
   "id": "5da2f80e-170c-4c3e-96a2-4eb95daed683",
   "metadata": {},
   "outputs": [],
   "source": [
    "# Get only the date field from all average temperature readings\n",
    "\n",
    "dates_temp = [item['date'] for item in avg_temps]"
   ]
  },
  {
   "cell_type": "code",
   "execution_count": 18,
   "id": "0cfa714b-b9d1-4ae5-bc92-17a12fc6c6fc",
   "metadata": {},
   "outputs": [],
   "source": [
    "# Get the temperature from all average temperature readings\n",
    "\n",
    "temps = [item['value'] for item in avg_temps]"
   ]
  },
  {
   "cell_type": "code",
   "execution_count": 19,
   "id": "fd34a880-f10a-47e3-8a60-64ecda0dff17",
   "metadata": {},
   "outputs": [],
   "source": [
    "# Put the results in a dataframe\n",
    "\n",
    "df_temp = pd.DataFrame()"
   ]
  },
  {
   "cell_type": "code",
   "execution_count": 20,
   "id": "ba33d46f-1d01-46ca-ae80-7a4ac14df0c4",
   "metadata": {},
   "outputs": [],
   "source": [
    "# Get only date and cast it to date time; convert temperature from tenths of Celsius to normal Celsius\n",
    "\n",
    "df_temp['date'] = [datetime.strptime(d, \"%Y-%m-%dT%H:%M:%S\") for d in dates_temp]\n",
    "df_temp['avgTemp'] = [float(v)/10.0 for v in temps]"
   ]
  },
  {
   "cell_type": "code",
   "execution_count": 21,
   "id": "a6a7f719-d0ba-4cd6-956d-2bab9713e24b",
   "metadata": {},
   "outputs": [
    {
     "data": {
      "text/html": [
       "<div>\n",
       "<style scoped>\n",
       "    .dataframe tbody tr th:only-of-type {\n",
       "        vertical-align: middle;\n",
       "    }\n",
       "\n",
       "    .dataframe tbody tr th {\n",
       "        vertical-align: top;\n",
       "    }\n",
       "\n",
       "    .dataframe thead th {\n",
       "        text-align: right;\n",
       "    }\n",
       "</style>\n",
       "<table border=\"1\" class=\"dataframe\">\n",
       "  <thead>\n",
       "    <tr style=\"text-align: right;\">\n",
       "      <th></th>\n",
       "      <th>date</th>\n",
       "      <th>avgTemp</th>\n",
       "    </tr>\n",
       "  </thead>\n",
       "  <tbody>\n",
       "    <tr>\n",
       "      <th>0</th>\n",
       "      <td>2022-01-01</td>\n",
       "      <td>11.6</td>\n",
       "    </tr>\n",
       "    <tr>\n",
       "      <th>1</th>\n",
       "      <td>2022-01-02</td>\n",
       "      <td>11.4</td>\n",
       "    </tr>\n",
       "    <tr>\n",
       "      <th>2</th>\n",
       "      <td>2022-01-03</td>\n",
       "      <td>1.4</td>\n",
       "    </tr>\n",
       "    <tr>\n",
       "      <th>3</th>\n",
       "      <td>2022-01-04</td>\n",
       "      <td>-2.7</td>\n",
       "    </tr>\n",
       "    <tr>\n",
       "      <th>4</th>\n",
       "      <td>2022-01-05</td>\n",
       "      <td>3.2</td>\n",
       "    </tr>\n",
       "  </tbody>\n",
       "</table>\n",
       "</div>"
      ],
      "text/plain": [
       "        date  avgTemp\n",
       "0 2022-01-01     11.6\n",
       "1 2022-01-02     11.4\n",
       "2 2022-01-03      1.4\n",
       "3 2022-01-04     -2.7\n",
       "4 2022-01-05      3.2"
      ]
     },
     "execution_count": 21,
     "metadata": {},
     "output_type": "execute_result"
    }
   ],
   "source": [
    "df_temp.head()"
   ]
  },
  {
   "cell_type": "code",
   "execution_count": 22,
   "id": "f81d6b2e-fc9b-490d-85d3-ea119b3f1cf0",
   "metadata": {},
   "outputs": [
    {
     "data": {
      "text/html": [
       "<div>\n",
       "<style scoped>\n",
       "    .dataframe tbody tr th:only-of-type {\n",
       "        vertical-align: middle;\n",
       "    }\n",
       "\n",
       "    .dataframe tbody tr th {\n",
       "        vertical-align: top;\n",
       "    }\n",
       "\n",
       "    .dataframe thead th {\n",
       "        text-align: right;\n",
       "    }\n",
       "</style>\n",
       "<table border=\"1\" class=\"dataframe\">\n",
       "  <thead>\n",
       "    <tr style=\"text-align: right;\">\n",
       "      <th></th>\n",
       "      <th>date</th>\n",
       "      <th>avgTemp</th>\n",
       "    </tr>\n",
       "  </thead>\n",
       "  <tbody>\n",
       "    <tr>\n",
       "      <th>360</th>\n",
       "      <td>2022-12-27</td>\n",
       "      <td>-0.7</td>\n",
       "    </tr>\n",
       "    <tr>\n",
       "      <th>361</th>\n",
       "      <td>2022-12-28</td>\n",
       "      <td>3.4</td>\n",
       "    </tr>\n",
       "    <tr>\n",
       "      <th>362</th>\n",
       "      <td>2022-12-29</td>\n",
       "      <td>6.4</td>\n",
       "    </tr>\n",
       "    <tr>\n",
       "      <th>363</th>\n",
       "      <td>2022-12-30</td>\n",
       "      <td>9.3</td>\n",
       "    </tr>\n",
       "    <tr>\n",
       "      <th>364</th>\n",
       "      <td>2022-12-31</td>\n",
       "      <td>8.2</td>\n",
       "    </tr>\n",
       "  </tbody>\n",
       "</table>\n",
       "</div>"
      ],
      "text/plain": [
       "          date  avgTemp\n",
       "360 2022-12-27     -0.7\n",
       "361 2022-12-28      3.4\n",
       "362 2022-12-29      6.4\n",
       "363 2022-12-30      9.3\n",
       "364 2022-12-31      8.2"
      ]
     },
     "execution_count": 22,
     "metadata": {},
     "output_type": "execute_result"
    }
   ],
   "source": [
    "df_temp.tail()"
   ]
  },
  {
   "cell_type": "code",
   "execution_count": 23,
   "id": "24f35f36-2e41-4bff-9bcc-c13a8fca5e96",
   "metadata": {},
   "outputs": [],
   "source": [
    "df_temp.to_csv('ny_laguardia_weather_data.csv')"
   ]
  },
  {
   "cell_type": "markdown",
   "id": "6f2cc696-e3d4-461f-86ba-67d7d23aac70",
   "metadata": {},
   "source": [
    "### 4. Merge the bike and weather datasets"
   ]
  },
  {
   "cell_type": "code",
   "execution_count": 24,
   "id": "7aca991a-16e3-4e4a-baf1-7a74e6efeb7a",
   "metadata": {},
   "outputs": [
    {
     "data": {
      "text/plain": [
       "ride_id                object\n",
       "rideable_type          object\n",
       "started_at             object\n",
       "ended_at               object\n",
       "start_station_name     object\n",
       "start_station_id       object\n",
       "end_station_name       object\n",
       "end_station_id         object\n",
       "start_lat             float64\n",
       "start_lng             float64\n",
       "end_lat               float64\n",
       "end_lng               float64\n",
       "member_casual          object\n",
       "dtype: object"
      ]
     },
     "execution_count": 24,
     "metadata": {},
     "output_type": "execute_result"
    }
   ],
   "source": [
    "df.dtypes"
   ]
  },
  {
   "cell_type": "code",
   "execution_count": 26,
   "id": "cc6e394e-bc62-4d63-ae72-541b04818f9b",
   "metadata": {},
   "outputs": [],
   "source": [
    "# Convert start_time column to datetime format\n",
    "\n",
    "df['started_at'] = pd.to_datetime(df['started_at'])"
   ]
  },
  {
   "cell_type": "code",
   "execution_count": 27,
   "id": "5ad2207f-9f79-49f0-91e2-e067564071c8",
   "metadata": {},
   "outputs": [],
   "source": [
    "# Extract date from date and time\n",
    "\n",
    "df['date'] = df['started_at'].dt.date"
   ]
  },
  {
   "cell_type": "code",
   "execution_count": 28,
   "id": "64218bab-664d-4373-a255-c49b68203826",
   "metadata": {},
   "outputs": [
    {
     "data": {
      "text/html": [
       "<div>\n",
       "<style scoped>\n",
       "    .dataframe tbody tr th:only-of-type {\n",
       "        vertical-align: middle;\n",
       "    }\n",
       "\n",
       "    .dataframe tbody tr th {\n",
       "        vertical-align: top;\n",
       "    }\n",
       "\n",
       "    .dataframe thead th {\n",
       "        text-align: right;\n",
       "    }\n",
       "</style>\n",
       "<table border=\"1\" class=\"dataframe\">\n",
       "  <thead>\n",
       "    <tr style=\"text-align: right;\">\n",
       "      <th></th>\n",
       "      <th>date</th>\n",
       "      <th>avgTemp</th>\n",
       "    </tr>\n",
       "  </thead>\n",
       "  <tbody>\n",
       "    <tr>\n",
       "      <th>0</th>\n",
       "      <td>2022-01-01</td>\n",
       "      <td>11.6</td>\n",
       "    </tr>\n",
       "    <tr>\n",
       "      <th>1</th>\n",
       "      <td>2022-01-02</td>\n",
       "      <td>11.4</td>\n",
       "    </tr>\n",
       "    <tr>\n",
       "      <th>2</th>\n",
       "      <td>2022-01-03</td>\n",
       "      <td>1.4</td>\n",
       "    </tr>\n",
       "    <tr>\n",
       "      <th>3</th>\n",
       "      <td>2022-01-04</td>\n",
       "      <td>-2.7</td>\n",
       "    </tr>\n",
       "    <tr>\n",
       "      <th>4</th>\n",
       "      <td>2022-01-05</td>\n",
       "      <td>3.2</td>\n",
       "    </tr>\n",
       "  </tbody>\n",
       "</table>\n",
       "</div>"
      ],
      "text/plain": [
       "        date  avgTemp\n",
       "0 2022-01-01     11.6\n",
       "1 2022-01-02     11.4\n",
       "2 2022-01-03      1.4\n",
       "3 2022-01-04     -2.7\n",
       "4 2022-01-05      3.2"
      ]
     },
     "execution_count": 28,
     "metadata": {},
     "output_type": "execute_result"
    }
   ],
   "source": [
    "df_temp.head()"
   ]
  },
  {
   "cell_type": "code",
   "execution_count": 29,
   "id": "3e12fba7-7f9d-4b20-8329-8e2c7f451f7d",
   "metadata": {},
   "outputs": [
    {
     "data": {
      "text/html": [
       "<div>\n",
       "<style scoped>\n",
       "    .dataframe tbody tr th:only-of-type {\n",
       "        vertical-align: middle;\n",
       "    }\n",
       "\n",
       "    .dataframe tbody tr th {\n",
       "        vertical-align: top;\n",
       "    }\n",
       "\n",
       "    .dataframe thead th {\n",
       "        text-align: right;\n",
       "    }\n",
       "</style>\n",
       "<table border=\"1\" class=\"dataframe\">\n",
       "  <thead>\n",
       "    <tr style=\"text-align: right;\">\n",
       "      <th></th>\n",
       "      <th>ride_id</th>\n",
       "      <th>rideable_type</th>\n",
       "      <th>started_at</th>\n",
       "      <th>ended_at</th>\n",
       "      <th>start_station_name</th>\n",
       "      <th>start_station_id</th>\n",
       "      <th>end_station_name</th>\n",
       "      <th>end_station_id</th>\n",
       "      <th>start_lat</th>\n",
       "      <th>start_lng</th>\n",
       "      <th>end_lat</th>\n",
       "      <th>end_lng</th>\n",
       "      <th>member_casual</th>\n",
       "      <th>date</th>\n",
       "    </tr>\n",
       "  </thead>\n",
       "  <tbody>\n",
       "    <tr>\n",
       "      <th>0</th>\n",
       "      <td>55262E4365A955A2</td>\n",
       "      <td>classic_bike</td>\n",
       "      <td>2022-01-18 08:23:52</td>\n",
       "      <td>2022-01-18 08:28:18</td>\n",
       "      <td>Boerum Pl\\t&amp; Pacific St</td>\n",
       "      <td>4488.09</td>\n",
       "      <td>Clinton St &amp; Joralemon St</td>\n",
       "      <td>4605.04</td>\n",
       "      <td>40.688489</td>\n",
       "      <td>-73.991160</td>\n",
       "      <td>40.692395</td>\n",
       "      <td>-73.993379</td>\n",
       "      <td>member</td>\n",
       "      <td>2022-01-18</td>\n",
       "    </tr>\n",
       "    <tr>\n",
       "      <th>1</th>\n",
       "      <td>D272F1B15D841EC0</td>\n",
       "      <td>classic_bike</td>\n",
       "      <td>2022-01-21 09:03:22</td>\n",
       "      <td>2022-01-21 09:05:44</td>\n",
       "      <td>E 12 St &amp; Ave C</td>\n",
       "      <td>5616.08</td>\n",
       "      <td>E 10 St &amp; Avenue A</td>\n",
       "      <td>5659.05</td>\n",
       "      <td>40.727243</td>\n",
       "      <td>-73.976831</td>\n",
       "      <td>40.727408</td>\n",
       "      <td>-73.981420</td>\n",
       "      <td>member</td>\n",
       "      <td>2022-01-21</td>\n",
       "    </tr>\n",
       "    <tr>\n",
       "      <th>2</th>\n",
       "      <td>D1FCEF55EB4A807F</td>\n",
       "      <td>classic_bike</td>\n",
       "      <td>2022-01-22 14:28:32</td>\n",
       "      <td>2022-01-22 14:53:18</td>\n",
       "      <td>W 21 St &amp; 6 Ave</td>\n",
       "      <td>6140.05</td>\n",
       "      <td>W 44 St &amp; 11 Ave</td>\n",
       "      <td>6756.05</td>\n",
       "      <td>40.741740</td>\n",
       "      <td>-73.994156</td>\n",
       "      <td>40.762009</td>\n",
       "      <td>-73.996975</td>\n",
       "      <td>member</td>\n",
       "      <td>2022-01-22</td>\n",
       "    </tr>\n",
       "    <tr>\n",
       "      <th>3</th>\n",
       "      <td>E9CBDC6A0162C068</td>\n",
       "      <td>electric_bike</td>\n",
       "      <td>2022-01-19 14:49:47</td>\n",
       "      <td>2022-01-19 14:54:02</td>\n",
       "      <td>38 St &amp; 30 Ave</td>\n",
       "      <td>6850.01</td>\n",
       "      <td>Crescent St &amp; 30 Ave</td>\n",
       "      <td>6958.06</td>\n",
       "      <td>40.764175</td>\n",
       "      <td>-73.915840</td>\n",
       "      <td>40.768692</td>\n",
       "      <td>-73.924957</td>\n",
       "      <td>member</td>\n",
       "      <td>2022-01-19</td>\n",
       "    </tr>\n",
       "    <tr>\n",
       "      <th>4</th>\n",
       "      <td>2177A5B57326CE9B</td>\n",
       "      <td>electric_bike</td>\n",
       "      <td>2022-01-16 14:36:06</td>\n",
       "      <td>2022-01-16 14:44:06</td>\n",
       "      <td>Pacific St &amp; Nevins St</td>\n",
       "      <td>4362.04</td>\n",
       "      <td>Clinton St &amp; Tillary St</td>\n",
       "      <td>4748.07</td>\n",
       "      <td>40.685376</td>\n",
       "      <td>-73.983021</td>\n",
       "      <td>40.696233</td>\n",
       "      <td>-73.991421</td>\n",
       "      <td>member</td>\n",
       "      <td>2022-01-16</td>\n",
       "    </tr>\n",
       "  </tbody>\n",
       "</table>\n",
       "</div>"
      ],
      "text/plain": [
       "            ride_id  rideable_type          started_at             ended_at  \\\n",
       "0  55262E4365A955A2   classic_bike 2022-01-18 08:23:52  2022-01-18 08:28:18   \n",
       "1  D272F1B15D841EC0   classic_bike 2022-01-21 09:03:22  2022-01-21 09:05:44   \n",
       "2  D1FCEF55EB4A807F   classic_bike 2022-01-22 14:28:32  2022-01-22 14:53:18   \n",
       "3  E9CBDC6A0162C068  electric_bike 2022-01-19 14:49:47  2022-01-19 14:54:02   \n",
       "4  2177A5B57326CE9B  electric_bike 2022-01-16 14:36:06  2022-01-16 14:44:06   \n",
       "\n",
       "        start_station_name start_station_id           end_station_name  \\\n",
       "0  Boerum Pl\\t& Pacific St          4488.09  Clinton St & Joralemon St   \n",
       "1          E 12 St & Ave C          5616.08         E 10 St & Avenue A   \n",
       "2          W 21 St & 6 Ave          6140.05           W 44 St & 11 Ave   \n",
       "3           38 St & 30 Ave          6850.01       Crescent St & 30 Ave   \n",
       "4   Pacific St & Nevins St          4362.04    Clinton St & Tillary St   \n",
       "\n",
       "  end_station_id  start_lat  start_lng    end_lat    end_lng member_casual  \\\n",
       "0        4605.04  40.688489 -73.991160  40.692395 -73.993379        member   \n",
       "1        5659.05  40.727243 -73.976831  40.727408 -73.981420        member   \n",
       "2        6756.05  40.741740 -73.994156  40.762009 -73.996975        member   \n",
       "3        6958.06  40.764175 -73.915840  40.768692 -73.924957        member   \n",
       "4        4748.07  40.685376 -73.983021  40.696233 -73.991421        member   \n",
       "\n",
       "         date  \n",
       "0  2022-01-18  \n",
       "1  2022-01-21  \n",
       "2  2022-01-22  \n",
       "3  2022-01-19  \n",
       "4  2022-01-16  "
      ]
     },
     "execution_count": 29,
     "metadata": {},
     "output_type": "execute_result"
    }
   ],
   "source": [
    "df.head()"
   ]
  },
  {
   "cell_type": "code",
   "execution_count": 30,
   "id": "88314ed6-407c-4527-a0ac-a3eeae930219",
   "metadata": {},
   "outputs": [],
   "source": [
    "# Convert the 'date' column in both dataframes to datetime64[ns]\n",
    "\n",
    "df['date'] = pd.to_datetime(df['date'])\n",
    "df_temp['date'] = pd.to_datetime(df_temp['date'])"
   ]
  },
  {
   "cell_type": "code",
   "execution_count": 31,
   "id": "22dd6ba3-62b3-4adb-b845-b66115f25dee",
   "metadata": {},
   "outputs": [],
   "source": [
    "# Merge the dataframes on the 'date' column\n",
    "\n",
    "df_merged = df.merge(df_temp, how = 'left', on = 'date', indicator = True)"
   ]
  },
  {
   "cell_type": "code",
   "execution_count": 32,
   "id": "ff9de230-db88-42d8-ad8e-30c7aec2e65a",
   "metadata": {},
   "outputs": [
    {
     "data": {
      "text/html": [
       "<div>\n",
       "<style scoped>\n",
       "    .dataframe tbody tr th:only-of-type {\n",
       "        vertical-align: middle;\n",
       "    }\n",
       "\n",
       "    .dataframe tbody tr th {\n",
       "        vertical-align: top;\n",
       "    }\n",
       "\n",
       "    .dataframe thead th {\n",
       "        text-align: right;\n",
       "    }\n",
       "</style>\n",
       "<table border=\"1\" class=\"dataframe\">\n",
       "  <thead>\n",
       "    <tr style=\"text-align: right;\">\n",
       "      <th></th>\n",
       "      <th>ride_id</th>\n",
       "      <th>rideable_type</th>\n",
       "      <th>started_at</th>\n",
       "      <th>ended_at</th>\n",
       "      <th>start_station_name</th>\n",
       "      <th>start_station_id</th>\n",
       "      <th>end_station_name</th>\n",
       "      <th>end_station_id</th>\n",
       "      <th>start_lat</th>\n",
       "      <th>start_lng</th>\n",
       "      <th>end_lat</th>\n",
       "      <th>end_lng</th>\n",
       "      <th>member_casual</th>\n",
       "      <th>date</th>\n",
       "      <th>avgTemp</th>\n",
       "      <th>_merge</th>\n",
       "    </tr>\n",
       "  </thead>\n",
       "  <tbody>\n",
       "    <tr>\n",
       "      <th>0</th>\n",
       "      <td>55262E4365A955A2</td>\n",
       "      <td>classic_bike</td>\n",
       "      <td>2022-01-18 08:23:52</td>\n",
       "      <td>2022-01-18 08:28:18</td>\n",
       "      <td>Boerum Pl\\t&amp; Pacific St</td>\n",
       "      <td>4488.09</td>\n",
       "      <td>Clinton St &amp; Joralemon St</td>\n",
       "      <td>4605.04</td>\n",
       "      <td>40.688489</td>\n",
       "      <td>-73.991160</td>\n",
       "      <td>40.692395</td>\n",
       "      <td>-73.993379</td>\n",
       "      <td>member</td>\n",
       "      <td>2022-01-18</td>\n",
       "      <td>1.8</td>\n",
       "      <td>both</td>\n",
       "    </tr>\n",
       "    <tr>\n",
       "      <th>1</th>\n",
       "      <td>D272F1B15D841EC0</td>\n",
       "      <td>classic_bike</td>\n",
       "      <td>2022-01-21 09:03:22</td>\n",
       "      <td>2022-01-21 09:05:44</td>\n",
       "      <td>E 12 St &amp; Ave C</td>\n",
       "      <td>5616.08</td>\n",
       "      <td>E 10 St &amp; Avenue A</td>\n",
       "      <td>5659.05</td>\n",
       "      <td>40.727243</td>\n",
       "      <td>-73.976831</td>\n",
       "      <td>40.727408</td>\n",
       "      <td>-73.981420</td>\n",
       "      <td>member</td>\n",
       "      <td>2022-01-21</td>\n",
       "      <td>-6.0</td>\n",
       "      <td>both</td>\n",
       "    </tr>\n",
       "    <tr>\n",
       "      <th>2</th>\n",
       "      <td>D1FCEF55EB4A807F</td>\n",
       "      <td>classic_bike</td>\n",
       "      <td>2022-01-22 14:28:32</td>\n",
       "      <td>2022-01-22 14:53:18</td>\n",
       "      <td>W 21 St &amp; 6 Ave</td>\n",
       "      <td>6140.05</td>\n",
       "      <td>W 44 St &amp; 11 Ave</td>\n",
       "      <td>6756.05</td>\n",
       "      <td>40.741740</td>\n",
       "      <td>-73.994156</td>\n",
       "      <td>40.762009</td>\n",
       "      <td>-73.996975</td>\n",
       "      <td>member</td>\n",
       "      <td>2022-01-22</td>\n",
       "      <td>-5.9</td>\n",
       "      <td>both</td>\n",
       "    </tr>\n",
       "    <tr>\n",
       "      <th>3</th>\n",
       "      <td>E9CBDC6A0162C068</td>\n",
       "      <td>electric_bike</td>\n",
       "      <td>2022-01-19 14:49:47</td>\n",
       "      <td>2022-01-19 14:54:02</td>\n",
       "      <td>38 St &amp; 30 Ave</td>\n",
       "      <td>6850.01</td>\n",
       "      <td>Crescent St &amp; 30 Ave</td>\n",
       "      <td>6958.06</td>\n",
       "      <td>40.764175</td>\n",
       "      <td>-73.915840</td>\n",
       "      <td>40.768692</td>\n",
       "      <td>-73.924957</td>\n",
       "      <td>member</td>\n",
       "      <td>2022-01-19</td>\n",
       "      <td>3.2</td>\n",
       "      <td>both</td>\n",
       "    </tr>\n",
       "    <tr>\n",
       "      <th>4</th>\n",
       "      <td>2177A5B57326CE9B</td>\n",
       "      <td>electric_bike</td>\n",
       "      <td>2022-01-16 14:36:06</td>\n",
       "      <td>2022-01-16 14:44:06</td>\n",
       "      <td>Pacific St &amp; Nevins St</td>\n",
       "      <td>4362.04</td>\n",
       "      <td>Clinton St &amp; Tillary St</td>\n",
       "      <td>4748.07</td>\n",
       "      <td>40.685376</td>\n",
       "      <td>-73.983021</td>\n",
       "      <td>40.696233</td>\n",
       "      <td>-73.991421</td>\n",
       "      <td>member</td>\n",
       "      <td>2022-01-16</td>\n",
       "      <td>-8.0</td>\n",
       "      <td>both</td>\n",
       "    </tr>\n",
       "  </tbody>\n",
       "</table>\n",
       "</div>"
      ],
      "text/plain": [
       "            ride_id  rideable_type          started_at             ended_at  \\\n",
       "0  55262E4365A955A2   classic_bike 2022-01-18 08:23:52  2022-01-18 08:28:18   \n",
       "1  D272F1B15D841EC0   classic_bike 2022-01-21 09:03:22  2022-01-21 09:05:44   \n",
       "2  D1FCEF55EB4A807F   classic_bike 2022-01-22 14:28:32  2022-01-22 14:53:18   \n",
       "3  E9CBDC6A0162C068  electric_bike 2022-01-19 14:49:47  2022-01-19 14:54:02   \n",
       "4  2177A5B57326CE9B  electric_bike 2022-01-16 14:36:06  2022-01-16 14:44:06   \n",
       "\n",
       "        start_station_name start_station_id           end_station_name  \\\n",
       "0  Boerum Pl\\t& Pacific St          4488.09  Clinton St & Joralemon St   \n",
       "1          E 12 St & Ave C          5616.08         E 10 St & Avenue A   \n",
       "2          W 21 St & 6 Ave          6140.05           W 44 St & 11 Ave   \n",
       "3           38 St & 30 Ave          6850.01       Crescent St & 30 Ave   \n",
       "4   Pacific St & Nevins St          4362.04    Clinton St & Tillary St   \n",
       "\n",
       "  end_station_id  start_lat  start_lng    end_lat    end_lng member_casual  \\\n",
       "0        4605.04  40.688489 -73.991160  40.692395 -73.993379        member   \n",
       "1        5659.05  40.727243 -73.976831  40.727408 -73.981420        member   \n",
       "2        6756.05  40.741740 -73.994156  40.762009 -73.996975        member   \n",
       "3        6958.06  40.764175 -73.915840  40.768692 -73.924957        member   \n",
       "4        4748.07  40.685376 -73.983021  40.696233 -73.991421        member   \n",
       "\n",
       "        date  avgTemp _merge  \n",
       "0 2022-01-18      1.8   both  \n",
       "1 2022-01-21     -6.0   both  \n",
       "2 2022-01-22     -5.9   both  \n",
       "3 2022-01-19      3.2   both  \n",
       "4 2022-01-16     -8.0   both  "
      ]
     },
     "execution_count": 32,
     "metadata": {},
     "output_type": "execute_result"
    }
   ],
   "source": [
    "df_merged.head()"
   ]
  },
  {
   "cell_type": "code",
   "execution_count": 33,
   "id": "eb02e7d3-fb05-48a2-afd4-e191bf23dedc",
   "metadata": {},
   "outputs": [
    {
     "data": {
      "text/plain": [
       "_merge\n",
       "both          30689921\n",
       "left_only            0\n",
       "right_only           0\n",
       "Name: count, dtype: int64"
      ]
     },
     "execution_count": 33,
     "metadata": {},
     "output_type": "execute_result"
    }
   ],
   "source": [
    "df_merged['_merge'].value_counts(dropna = False)"
   ]
  },
  {
   "cell_type": "code",
   "execution_count": 34,
   "id": "6b18a1a2-a4a3-4769-8b97-f8fb3cd962f3",
   "metadata": {},
   "outputs": [
    {
     "data": {
      "text/plain": [
       "(30689921, 16)"
      ]
     },
     "execution_count": 34,
     "metadata": {},
     "output_type": "execute_result"
    }
   ],
   "source": [
    "df_merged.shape"
   ]
  },
  {
   "cell_type": "code",
   "execution_count": null,
   "id": "f37d1404-0569-4789-b9d9-56eb9f2664ea",
   "metadata": {},
   "outputs": [],
   "source": [
    "# remove all rows with Lab- NYC station name\n",
    "df_new_enry[df_new_enry['start_station_name'] != 'Lab - NYC']"
   ]
  },
  {
   "cell_type": "code",
   "execution_count": 35,
   "id": "89771184-79c1-47a6-bd64-59841df57c79",
   "metadata": {},
   "outputs": [],
   "source": [
    "df_merged.to_csv('ny_data.csv')"
   ]
  },
  {
   "cell_type": "code",
   "execution_count": 1,
   "id": "a26caeca-60a3-4873-aa57-b069df81a6a7",
   "metadata": {},
   "outputs": [
    {
     "ename": "NameError",
     "evalue": "name 'df_merged' is not defined",
     "output_type": "error",
     "traceback": [
      "\u001b[1;31m---------------------------------------------------------------------------\u001b[0m",
      "\u001b[1;31mNameError\u001b[0m                                 Traceback (most recent call last)",
      "Cell \u001b[1;32mIn[1], line 1\u001b[0m\n\u001b[1;32m----> 1\u001b[0m df_merged\u001b[38;5;241m.\u001b[39mto_parquet(\u001b[38;5;124m'\u001b[39m\u001b[38;5;124mny_data.parquet\u001b[39m\u001b[38;5;124m'\u001b[39m)\n",
      "\u001b[1;31mNameError\u001b[0m: name 'df_merged' is not defined"
     ]
    }
   ],
   "source": [
    "df_merged.to_parquet('ny_data.parquet')"
   ]
  },
  {
   "cell_type": "code",
   "execution_count": null,
   "id": "36aedc1e-b0cb-4d41-8a42-7a7048e2dc80",
   "metadata": {},
   "outputs": [],
   "source": []
  }
 ],
 "metadata": {
  "kernelspec": {
   "display_name": "Python 3 (ipykernel)",
   "language": "python",
   "name": "python3"
  },
  "language_info": {
   "codemirror_mode": {
    "name": "ipython",
    "version": 3
   },
   "file_extension": ".py",
   "mimetype": "text/x-python",
   "name": "python",
   "nbconvert_exporter": "python",
   "pygments_lexer": "ipython3",
   "version": "3.11.9"
  }
 },
 "nbformat": 4,
 "nbformat_minor": 5
}
