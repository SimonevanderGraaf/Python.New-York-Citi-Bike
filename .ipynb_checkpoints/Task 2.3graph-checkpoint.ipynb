{
 "cells": [
  {
   "cell_type": "markdown",
   "id": "00ff0d09-bf70-4665-ade7-69b6f6461eb1",
   "metadata": {},
   "source": [
    "# 2.3 Fundamentals of Visualization libraries Part 1 ß Matplotlib\n",
    "## Table of contents:\n",
    "### 1. Installing library matplotlib\n",
    "### 2. Importing libraries and dataset\n",
    "### 3. Line plot with pandas\n",
    "### 4. Create a column with the count of trips"
   ]
  },
  {
   "cell_type": "markdown",
   "id": "13a29914-30a6-4d18-83fa-74245a282288",
   "metadata": {},
   "source": [
    "### 1. Installing library matplotlib"
   ]
  },
  {
   "cell_type": "code",
   "execution_count": 1,
   "id": "a01ca8dd-b8af-476b-b045-d1fcd13e35eb",
   "metadata": {},
   "outputs": [
    {
     "name": "stdout",
     "output_type": "stream",
     "text": [
      "Collecting matplotlib==3.7.1\n",
      "  Downloading matplotlib-3.7.1-cp311-cp311-win_amd64.whl.metadata (5.8 kB)\n",
      "Collecting contourpy>=1.0.1 (from matplotlib==3.7.1)\n",
      "  Downloading contourpy-1.2.1-cp311-cp311-win_amd64.whl.metadata (5.8 kB)\n",
      "Collecting cycler>=0.10 (from matplotlib==3.7.1)\n",
      "  Using cached cycler-0.12.1-py3-none-any.whl.metadata (3.8 kB)\n",
      "Collecting fonttools>=4.22.0 (from matplotlib==3.7.1)\n",
      "  Using cached fonttools-4.53.0-cp311-cp311-win_amd64.whl.metadata (165 kB)\n",
      "Collecting kiwisolver>=1.0.1 (from matplotlib==3.7.1)\n",
      "  Using cached kiwisolver-1.4.5-cp311-cp311-win_amd64.whl.metadata (6.5 kB)\n",
      "Requirement already satisfied: numpy>=1.20 in c:\\users\\svand\\anaconda3\\envs\\citibike_2022\\lib\\site-packages (from matplotlib==3.7.1) (1.26.4)\n",
      "Requirement already satisfied: packaging>=20.0 in c:\\users\\svand\\anaconda3\\envs\\citibike_2022\\lib\\site-packages (from matplotlib==3.7.1) (23.2)\n",
      "Collecting pillow>=6.2.0 (from matplotlib==3.7.1)\n",
      "  Using cached pillow-10.3.0-cp311-cp311-win_amd64.whl.metadata (9.4 kB)\n",
      "Collecting pyparsing>=2.3.1 (from matplotlib==3.7.1)\n",
      "  Using cached pyparsing-3.1.2-py3-none-any.whl.metadata (5.1 kB)\n",
      "Requirement already satisfied: python-dateutil>=2.7 in c:\\users\\svand\\anaconda3\\envs\\citibike_2022\\lib\\site-packages (from matplotlib==3.7.1) (2.9.0.post0)\n",
      "Requirement already satisfied: six>=1.5 in c:\\users\\svand\\anaconda3\\envs\\citibike_2022\\lib\\site-packages (from python-dateutil>=2.7->matplotlib==3.7.1) (1.16.0)\n",
      "Downloading matplotlib-3.7.1-cp311-cp311-win_amd64.whl (7.6 MB)\n",
      "   ---------------------------------------- 0.0/7.6 MB ? eta -:--:--\n",
      "   ---------------------------------------- 0.0/7.6 MB ? eta -:--:--\n",
      "   ---------------------------------------- 0.1/7.6 MB 812.7 kB/s eta 0:00:10\n",
      "   -- ------------------------------------- 0.5/7.6 MB 4.0 MB/s eta 0:00:02\n",
      "   ------- -------------------------------- 1.4/7.6 MB 8.5 MB/s eta 0:00:01\n",
      "   ---------------- ----------------------- 3.1/7.6 MB 15.1 MB/s eta 0:00:01\n",
      "   ------------------------ --------------- 4.6/7.6 MB 18.4 MB/s eta 0:00:01\n",
      "   --------------------------------- ------ 6.5/7.6 MB 21.8 MB/s eta 0:00:01\n",
      "   ---------------------------------------  7.6/7.6 MB 23.2 MB/s eta 0:00:01\n",
      "   ---------------------------------------- 7.6/7.6 MB 21.2 MB/s eta 0:00:00\n",
      "Downloading contourpy-1.2.1-cp311-cp311-win_amd64.whl (188 kB)\n",
      "   ---------------------------------------- 0.0/188.2 kB ? eta -:--:--\n",
      "   ---------------------------------------- 188.2/188.2 kB ? eta 0:00:00\n",
      "Using cached cycler-0.12.1-py3-none-any.whl (8.3 kB)\n",
      "Using cached fonttools-4.53.0-cp311-cp311-win_amd64.whl (2.2 MB)\n",
      "Using cached kiwisolver-1.4.5-cp311-cp311-win_amd64.whl (56 kB)\n",
      "Using cached pillow-10.3.0-cp311-cp311-win_amd64.whl (2.5 MB)\n",
      "Using cached pyparsing-3.1.2-py3-none-any.whl (103 kB)\n",
      "Installing collected packages: pyparsing, pillow, kiwisolver, fonttools, cycler, contourpy, matplotlib\n",
      "Successfully installed contourpy-1.2.1 cycler-0.12.1 fonttools-4.53.0 kiwisolver-1.4.5 matplotlib-3.7.1 pillow-10.3.0 pyparsing-3.1.2\n",
      "Note: you may need to restart the kernel to use updated packages.\n"
     ]
    }
   ],
   "source": [
    "pip install matplotlib==3.7.1"
   ]
  },
  {
   "cell_type": "markdown",
   "id": "3198e9ab-6f1c-4104-9f2a-6b18a54a476a",
   "metadata": {},
   "source": [
    "### 2. Importing libraries and dataset"
   ]
  },
  {
   "cell_type": "code",
   "execution_count": 1,
   "id": "e8a3651c-0de3-4188-85c4-c22f9cdf28ff",
   "metadata": {},
   "outputs": [],
   "source": [
    "import pandas as pd\n",
    "from matplotlib import pyplot as plt\n",
    "import numpy as np\n",
    "from datetime import datetime as dt"
   ]
  },
  {
   "cell_type": "code",
   "execution_count": 2,
   "id": "3d4c5c76-1fa0-4655-98ff-bf35f7062f8f",
   "metadata": {},
   "outputs": [],
   "source": [
    "import matplotlib"
   ]
  },
  {
   "cell_type": "code",
   "execution_count": 3,
   "id": "bfa18e7a-0ea9-4582-ba22-579ae34d7908",
   "metadata": {},
   "outputs": [
    {
     "name": "stderr",
     "output_type": "stream",
     "text": [
      "C:\\Users\\svand\\AppData\\Local\\Temp\\ipykernel_17836\\1155992312.py:1: DtypeWarning: Columns (6,8) have mixed types. Specify dtype option on import or set low_memory=False.\n",
      "  df_merged = pd.read_csv('ny_data.csv', index_col = 0)\n"
     ]
    }
   ],
   "source": [
    "df_merged = pd.read_csv('ny_data.csv', index_col = 0)"
   ]
  },
  {
   "cell_type": "code",
   "execution_count": 4,
   "id": "4db8f7c0-975a-44dc-baf9-cb3274d2e517",
   "metadata": {},
   "outputs": [
    {
     "data": {
      "text/plain": [
       "Index(['ride_id', 'rideable_type', 'started_at', 'ended_at',\n",
       "       'start_station_name', 'start_station_id', 'end_station_name',\n",
       "       'end_station_id', 'start_lat', 'start_lng', 'end_lat', 'end_lng',\n",
       "       'member_casual', 'date', 'avgTemp', '_merge'],\n",
       "      dtype='object')"
      ]
     },
     "execution_count": 4,
     "metadata": {},
     "output_type": "execute_result"
    }
   ],
   "source": [
    "df_merged.columns"
   ]
  },
  {
   "cell_type": "code",
   "execution_count": 6,
   "id": "605b5837-5f6d-49db-944e-fd4c69907e5e",
   "metadata": {},
   "outputs": [],
   "source": [
    "df_merged.drop(columns = {'_merge'}, inplace = True)"
   ]
  },
  {
   "cell_type": "code",
   "execution_count": 7,
   "id": "fabb6501-2412-48a7-8983-f472887c2d60",
   "metadata": {},
   "outputs": [
    {
     "data": {
      "text/html": [
       "<div>\n",
       "<style scoped>\n",
       "    .dataframe tbody tr th:only-of-type {\n",
       "        vertical-align: middle;\n",
       "    }\n",
       "\n",
       "    .dataframe tbody tr th {\n",
       "        vertical-align: top;\n",
       "    }\n",
       "\n",
       "    .dataframe thead th {\n",
       "        text-align: right;\n",
       "    }\n",
       "</style>\n",
       "<table border=\"1\" class=\"dataframe\">\n",
       "  <thead>\n",
       "    <tr style=\"text-align: right;\">\n",
       "      <th></th>\n",
       "      <th>ride_id</th>\n",
       "      <th>rideable_type</th>\n",
       "      <th>started_at</th>\n",
       "      <th>ended_at</th>\n",
       "      <th>start_station_name</th>\n",
       "      <th>start_station_id</th>\n",
       "      <th>end_station_name</th>\n",
       "      <th>end_station_id</th>\n",
       "      <th>start_lat</th>\n",
       "      <th>start_lng</th>\n",
       "      <th>end_lat</th>\n",
       "      <th>end_lng</th>\n",
       "      <th>member_casual</th>\n",
       "      <th>date</th>\n",
       "      <th>avgTemp</th>\n",
       "    </tr>\n",
       "  </thead>\n",
       "  <tbody>\n",
       "    <tr>\n",
       "      <th>0</th>\n",
       "      <td>55262E4365A955A2</td>\n",
       "      <td>classic_bike</td>\n",
       "      <td>2022-01-18 08:23:52</td>\n",
       "      <td>2022-01-18 08:28:18</td>\n",
       "      <td>Boerum Pl\\t&amp; Pacific St</td>\n",
       "      <td>4488.09</td>\n",
       "      <td>Clinton St &amp; Joralemon St</td>\n",
       "      <td>4605.04</td>\n",
       "      <td>40.688489</td>\n",
       "      <td>-73.991160</td>\n",
       "      <td>40.692395</td>\n",
       "      <td>-73.993379</td>\n",
       "      <td>member</td>\n",
       "      <td>2022-01-18</td>\n",
       "      <td>1.8</td>\n",
       "    </tr>\n",
       "    <tr>\n",
       "      <th>1</th>\n",
       "      <td>D272F1B15D841EC0</td>\n",
       "      <td>classic_bike</td>\n",
       "      <td>2022-01-21 09:03:22</td>\n",
       "      <td>2022-01-21 09:05:44</td>\n",
       "      <td>E 12 St &amp; Ave C</td>\n",
       "      <td>5616.08</td>\n",
       "      <td>E 10 St &amp; Avenue A</td>\n",
       "      <td>5659.05</td>\n",
       "      <td>40.727243</td>\n",
       "      <td>-73.976831</td>\n",
       "      <td>40.727408</td>\n",
       "      <td>-73.981420</td>\n",
       "      <td>member</td>\n",
       "      <td>2022-01-21</td>\n",
       "      <td>-6.0</td>\n",
       "    </tr>\n",
       "    <tr>\n",
       "      <th>2</th>\n",
       "      <td>D1FCEF55EB4A807F</td>\n",
       "      <td>classic_bike</td>\n",
       "      <td>2022-01-22 14:28:32</td>\n",
       "      <td>2022-01-22 14:53:18</td>\n",
       "      <td>W 21 St &amp; 6 Ave</td>\n",
       "      <td>6140.05</td>\n",
       "      <td>W 44 St &amp; 11 Ave</td>\n",
       "      <td>6756.05</td>\n",
       "      <td>40.741740</td>\n",
       "      <td>-73.994156</td>\n",
       "      <td>40.762009</td>\n",
       "      <td>-73.996975</td>\n",
       "      <td>member</td>\n",
       "      <td>2022-01-22</td>\n",
       "      <td>-5.9</td>\n",
       "    </tr>\n",
       "    <tr>\n",
       "      <th>3</th>\n",
       "      <td>E9CBDC6A0162C068</td>\n",
       "      <td>electric_bike</td>\n",
       "      <td>2022-01-19 14:49:47</td>\n",
       "      <td>2022-01-19 14:54:02</td>\n",
       "      <td>38 St &amp; 30 Ave</td>\n",
       "      <td>6850.01</td>\n",
       "      <td>Crescent St &amp; 30 Ave</td>\n",
       "      <td>6958.06</td>\n",
       "      <td>40.764175</td>\n",
       "      <td>-73.915840</td>\n",
       "      <td>40.768692</td>\n",
       "      <td>-73.924957</td>\n",
       "      <td>member</td>\n",
       "      <td>2022-01-19</td>\n",
       "      <td>3.2</td>\n",
       "    </tr>\n",
       "    <tr>\n",
       "      <th>4</th>\n",
       "      <td>2177A5B57326CE9B</td>\n",
       "      <td>electric_bike</td>\n",
       "      <td>2022-01-16 14:36:06</td>\n",
       "      <td>2022-01-16 14:44:06</td>\n",
       "      <td>Pacific St &amp; Nevins St</td>\n",
       "      <td>4362.04</td>\n",
       "      <td>Clinton St &amp; Tillary St</td>\n",
       "      <td>4748.07</td>\n",
       "      <td>40.685376</td>\n",
       "      <td>-73.983021</td>\n",
       "      <td>40.696233</td>\n",
       "      <td>-73.991421</td>\n",
       "      <td>member</td>\n",
       "      <td>2022-01-16</td>\n",
       "      <td>-8.0</td>\n",
       "    </tr>\n",
       "  </tbody>\n",
       "</table>\n",
       "</div>"
      ],
      "text/plain": [
       "            ride_id  rideable_type           started_at             ended_at  \\\n",
       "0  55262E4365A955A2   classic_bike  2022-01-18 08:23:52  2022-01-18 08:28:18   \n",
       "1  D272F1B15D841EC0   classic_bike  2022-01-21 09:03:22  2022-01-21 09:05:44   \n",
       "2  D1FCEF55EB4A807F   classic_bike  2022-01-22 14:28:32  2022-01-22 14:53:18   \n",
       "3  E9CBDC6A0162C068  electric_bike  2022-01-19 14:49:47  2022-01-19 14:54:02   \n",
       "4  2177A5B57326CE9B  electric_bike  2022-01-16 14:36:06  2022-01-16 14:44:06   \n",
       "\n",
       "        start_station_name start_station_id           end_station_name  \\\n",
       "0  Boerum Pl\\t& Pacific St          4488.09  Clinton St & Joralemon St   \n",
       "1          E 12 St & Ave C          5616.08         E 10 St & Avenue A   \n",
       "2          W 21 St & 6 Ave          6140.05           W 44 St & 11 Ave   \n",
       "3           38 St & 30 Ave          6850.01       Crescent St & 30 Ave   \n",
       "4   Pacific St & Nevins St          4362.04    Clinton St & Tillary St   \n",
       "\n",
       "  end_station_id  start_lat  start_lng    end_lat    end_lng member_casual  \\\n",
       "0        4605.04  40.688489 -73.991160  40.692395 -73.993379        member   \n",
       "1        5659.05  40.727243 -73.976831  40.727408 -73.981420        member   \n",
       "2        6756.05  40.741740 -73.994156  40.762009 -73.996975        member   \n",
       "3        6958.06  40.764175 -73.915840  40.768692 -73.924957        member   \n",
       "4        4748.07  40.685376 -73.983021  40.696233 -73.991421        member   \n",
       "\n",
       "         date  avgTemp  \n",
       "0  2022-01-18      1.8  \n",
       "1  2022-01-21     -6.0  \n",
       "2  2022-01-22     -5.9  \n",
       "3  2022-01-19      3.2  \n",
       "4  2022-01-16     -8.0  "
      ]
     },
     "execution_count": 7,
     "metadata": {},
     "output_type": "execute_result"
    }
   ],
   "source": [
    "df_merged.head()"
   ]
  },
  {
   "cell_type": "code",
   "execution_count": 9,
   "id": "248c905a-bce2-431d-b12c-fa9ab020caa4",
   "metadata": {},
   "outputs": [
    {
     "data": {
      "text/plain": [
       "(30689921, 15)"
      ]
     },
     "execution_count": 9,
     "metadata": {},
     "output_type": "execute_result"
    }
   ],
   "source": [
    "df_merged.shape"
   ]
  },
  {
   "cell_type": "code",
   "execution_count": 11,
   "id": "a3d7e26e-a58d-474f-8300-446447643027",
   "metadata": {},
   "outputs": [
    {
     "data": {
      "text/plain": [
       "ride_id                object\n",
       "rideable_type          object\n",
       "started_at             object\n",
       "ended_at               object\n",
       "start_station_name     object\n",
       "start_station_id       object\n",
       "end_station_name       object\n",
       "end_station_id         object\n",
       "start_lat             float64\n",
       "start_lng             float64\n",
       "end_lat               float64\n",
       "end_lng               float64\n",
       "member_casual          object\n",
       "date                   object\n",
       "avgTemp               float64\n",
       "dtype: object"
      ]
     },
     "execution_count": 11,
     "metadata": {},
     "output_type": "execute_result"
    }
   ],
   "source": [
    "df_merged.dtypes"
   ]
  },
  {
   "cell_type": "code",
   "execution_count": 12,
   "id": "85cbbc74-9a40-4032-8132-f6c527ce60d4",
   "metadata": {},
   "outputs": [],
   "source": [
    "df_merged['date'] = pd.to_datetime(df_merged['date'])"
   ]
  },
  {
   "cell_type": "code",
   "execution_count": 13,
   "id": "4f1f924d-06e3-45b4-ae51-421a1cc1e3ff",
   "metadata": {},
   "outputs": [
    {
     "data": {
      "text/plain": [
       "ride_id                       object\n",
       "rideable_type                 object\n",
       "started_at                    object\n",
       "ended_at                      object\n",
       "start_station_name            object\n",
       "start_station_id              object\n",
       "end_station_name              object\n",
       "end_station_id                object\n",
       "start_lat                    float64\n",
       "start_lng                    float64\n",
       "end_lat                      float64\n",
       "end_lng                      float64\n",
       "member_casual                 object\n",
       "date                  datetime64[ns]\n",
       "avgTemp                      float64\n",
       "dtype: object"
      ]
     },
     "execution_count": 13,
     "metadata": {},
     "output_type": "execute_result"
    }
   ],
   "source": [
    "df_merged.dtypes"
   ]
  },
  {
   "cell_type": "markdown",
   "id": "db32a6a9-185e-4ff9-ad7f-60b437d51314",
   "metadata": {},
   "source": [
    "### 3. Line plot with pandas"
   ]
  },
  {
   "cell_type": "code",
   "execution_count": 15,
   "id": "364d22e3-3b61-4d58-99b5-c7eb3f90515e",
   "metadata": {},
   "outputs": [],
   "source": [
    "df_temp = df_merged.set_index('date')"
   ]
  },
  {
   "cell_type": "code",
   "execution_count": 16,
   "id": "593e9fca-313b-4e76-8da1-5cf60e45a5e3",
   "metadata": {},
   "outputs": [
    {
     "data": {
      "text/html": [
       "<div>\n",
       "<style scoped>\n",
       "    .dataframe tbody tr th:only-of-type {\n",
       "        vertical-align: middle;\n",
       "    }\n",
       "\n",
       "    .dataframe tbody tr th {\n",
       "        vertical-align: top;\n",
       "    }\n",
       "\n",
       "    .dataframe thead th {\n",
       "        text-align: right;\n",
       "    }\n",
       "</style>\n",
       "<table border=\"1\" class=\"dataframe\">\n",
       "  <thead>\n",
       "    <tr style=\"text-align: right;\">\n",
       "      <th></th>\n",
       "      <th>ride_id</th>\n",
       "      <th>rideable_type</th>\n",
       "      <th>started_at</th>\n",
       "      <th>ended_at</th>\n",
       "      <th>start_station_name</th>\n",
       "      <th>start_station_id</th>\n",
       "      <th>end_station_name</th>\n",
       "      <th>end_station_id</th>\n",
       "      <th>start_lat</th>\n",
       "      <th>start_lng</th>\n",
       "      <th>end_lat</th>\n",
       "      <th>end_lng</th>\n",
       "      <th>member_casual</th>\n",
       "      <th>avgTemp</th>\n",
       "    </tr>\n",
       "    <tr>\n",
       "      <th>date</th>\n",
       "      <th></th>\n",
       "      <th></th>\n",
       "      <th></th>\n",
       "      <th></th>\n",
       "      <th></th>\n",
       "      <th></th>\n",
       "      <th></th>\n",
       "      <th></th>\n",
       "      <th></th>\n",
       "      <th></th>\n",
       "      <th></th>\n",
       "      <th></th>\n",
       "      <th></th>\n",
       "      <th></th>\n",
       "    </tr>\n",
       "  </thead>\n",
       "  <tbody>\n",
       "    <tr>\n",
       "      <th>2022-01-18</th>\n",
       "      <td>55262E4365A955A2</td>\n",
       "      <td>classic_bike</td>\n",
       "      <td>2022-01-18 08:23:52</td>\n",
       "      <td>2022-01-18 08:28:18</td>\n",
       "      <td>Boerum Pl\\t&amp; Pacific St</td>\n",
       "      <td>4488.09</td>\n",
       "      <td>Clinton St &amp; Joralemon St</td>\n",
       "      <td>4605.04</td>\n",
       "      <td>40.688489</td>\n",
       "      <td>-73.991160</td>\n",
       "      <td>40.692395</td>\n",
       "      <td>-73.993379</td>\n",
       "      <td>member</td>\n",
       "      <td>1.8</td>\n",
       "    </tr>\n",
       "    <tr>\n",
       "      <th>2022-01-21</th>\n",
       "      <td>D272F1B15D841EC0</td>\n",
       "      <td>classic_bike</td>\n",
       "      <td>2022-01-21 09:03:22</td>\n",
       "      <td>2022-01-21 09:05:44</td>\n",
       "      <td>E 12 St &amp; Ave C</td>\n",
       "      <td>5616.08</td>\n",
       "      <td>E 10 St &amp; Avenue A</td>\n",
       "      <td>5659.05</td>\n",
       "      <td>40.727243</td>\n",
       "      <td>-73.976831</td>\n",
       "      <td>40.727408</td>\n",
       "      <td>-73.981420</td>\n",
       "      <td>member</td>\n",
       "      <td>-6.0</td>\n",
       "    </tr>\n",
       "    <tr>\n",
       "      <th>2022-01-22</th>\n",
       "      <td>D1FCEF55EB4A807F</td>\n",
       "      <td>classic_bike</td>\n",
       "      <td>2022-01-22 14:28:32</td>\n",
       "      <td>2022-01-22 14:53:18</td>\n",
       "      <td>W 21 St &amp; 6 Ave</td>\n",
       "      <td>6140.05</td>\n",
       "      <td>W 44 St &amp; 11 Ave</td>\n",
       "      <td>6756.05</td>\n",
       "      <td>40.741740</td>\n",
       "      <td>-73.994156</td>\n",
       "      <td>40.762009</td>\n",
       "      <td>-73.996975</td>\n",
       "      <td>member</td>\n",
       "      <td>-5.9</td>\n",
       "    </tr>\n",
       "    <tr>\n",
       "      <th>2022-01-19</th>\n",
       "      <td>E9CBDC6A0162C068</td>\n",
       "      <td>electric_bike</td>\n",
       "      <td>2022-01-19 14:49:47</td>\n",
       "      <td>2022-01-19 14:54:02</td>\n",
       "      <td>38 St &amp; 30 Ave</td>\n",
       "      <td>6850.01</td>\n",
       "      <td>Crescent St &amp; 30 Ave</td>\n",
       "      <td>6958.06</td>\n",
       "      <td>40.764175</td>\n",
       "      <td>-73.915840</td>\n",
       "      <td>40.768692</td>\n",
       "      <td>-73.924957</td>\n",
       "      <td>member</td>\n",
       "      <td>3.2</td>\n",
       "    </tr>\n",
       "    <tr>\n",
       "      <th>2022-01-16</th>\n",
       "      <td>2177A5B57326CE9B</td>\n",
       "      <td>electric_bike</td>\n",
       "      <td>2022-01-16 14:36:06</td>\n",
       "      <td>2022-01-16 14:44:06</td>\n",
       "      <td>Pacific St &amp; Nevins St</td>\n",
       "      <td>4362.04</td>\n",
       "      <td>Clinton St &amp; Tillary St</td>\n",
       "      <td>4748.07</td>\n",
       "      <td>40.685376</td>\n",
       "      <td>-73.983021</td>\n",
       "      <td>40.696233</td>\n",
       "      <td>-73.991421</td>\n",
       "      <td>member</td>\n",
       "      <td>-8.0</td>\n",
       "    </tr>\n",
       "  </tbody>\n",
       "</table>\n",
       "</div>"
      ],
      "text/plain": [
       "                     ride_id  rideable_type           started_at  \\\n",
       "date                                                               \n",
       "2022-01-18  55262E4365A955A2   classic_bike  2022-01-18 08:23:52   \n",
       "2022-01-21  D272F1B15D841EC0   classic_bike  2022-01-21 09:03:22   \n",
       "2022-01-22  D1FCEF55EB4A807F   classic_bike  2022-01-22 14:28:32   \n",
       "2022-01-19  E9CBDC6A0162C068  electric_bike  2022-01-19 14:49:47   \n",
       "2022-01-16  2177A5B57326CE9B  electric_bike  2022-01-16 14:36:06   \n",
       "\n",
       "                       ended_at       start_station_name start_station_id  \\\n",
       "date                                                                        \n",
       "2022-01-18  2022-01-18 08:28:18  Boerum Pl\\t& Pacific St          4488.09   \n",
       "2022-01-21  2022-01-21 09:05:44          E 12 St & Ave C          5616.08   \n",
       "2022-01-22  2022-01-22 14:53:18          W 21 St & 6 Ave          6140.05   \n",
       "2022-01-19  2022-01-19 14:54:02           38 St & 30 Ave          6850.01   \n",
       "2022-01-16  2022-01-16 14:44:06   Pacific St & Nevins St          4362.04   \n",
       "\n",
       "                     end_station_name end_station_id  start_lat  start_lng  \\\n",
       "date                                                                         \n",
       "2022-01-18  Clinton St & Joralemon St        4605.04  40.688489 -73.991160   \n",
       "2022-01-21         E 10 St & Avenue A        5659.05  40.727243 -73.976831   \n",
       "2022-01-22           W 44 St & 11 Ave        6756.05  40.741740 -73.994156   \n",
       "2022-01-19       Crescent St & 30 Ave        6958.06  40.764175 -73.915840   \n",
       "2022-01-16    Clinton St & Tillary St        4748.07  40.685376 -73.983021   \n",
       "\n",
       "              end_lat    end_lng member_casual  avgTemp  \n",
       "date                                                     \n",
       "2022-01-18  40.692395 -73.993379        member      1.8  \n",
       "2022-01-21  40.727408 -73.981420        member     -6.0  \n",
       "2022-01-22  40.762009 -73.996975        member     -5.9  \n",
       "2022-01-19  40.768692 -73.924957        member      3.2  \n",
       "2022-01-16  40.696233 -73.991421        member     -8.0  "
      ]
     },
     "execution_count": 16,
     "metadata": {},
     "output_type": "execute_result"
    }
   ],
   "source": [
    "df_temp.head()"
   ]
  },
  {
   "cell_type": "code",
   "execution_count": 29,
   "id": "2cd596bb-08fc-48c5-a29a-6aa9973a0270",
   "metadata": {},
   "outputs": [
    {
     "data": {
      "image/png": "[encoded data removed]",
      "text/plain": [
       "<Figure size 1200x600 with 1 Axes>"
      ]
     },
     "metadata": {},
     "output_type": "display_data"
    }
   ],
   "source": [
    "# Set the value of agg.path.chunksize to a number greater than 100\n",
    "plt.rcParams['agg.path.chunksize'] = 100000\n",
    "\n",
    "# adjusting the path simplification threshold\n",
    "plt.rcParams['path.simplify_threshold'] = 1.0\n",
    "\n",
    "# Set the figure size to make the plot wider\n",
    "plt.figure(figsize=(12, 6))  # Width=12 inches, Height=6 inches\n",
    "plt.title('Temperatures daily for 2022')\n",
    "\n",
    "# plotting the data\n",
    "df_temp['avgTemp'].plot()\n",
    "plt.show()"
   ]
  },
  {
   "cell_type": "markdown",
   "id": "3f3e396c-3d0f-4764-91fe-ef9de3f4828a",
   "metadata": {},
   "source": [
    "### I have tried to get the plot more clear, but when I research how to make it wider, I only see the option of using Matplotlib for that. For this reason I keep the plot as it is as I have to use Pandas."
   ]
  },
  {
   "cell_type": "markdown",
   "id": "202ea28e-8171-41d4-abf8-3291489205b6",
   "metadata": {},
   "source": [
    "### 4. Create a column with the count of trips"
   ]
  },
  {
   "cell_type": "code",
   "execution_count": 21,
   "id": "d9ddfc69-50e0-4957-b14f-e349bdd52765",
   "metadata": {},
   "outputs": [
    {
     "data": {
      "text/plain": [
       "Index(['ride_id', 'rideable_type', 'started_at', 'ended_at',\n",
       "       'start_station_name', 'start_station_id', 'end_station_name',\n",
       "       'end_station_id', 'start_lat', 'start_lng', 'end_lat', 'end_lng',\n",
       "       'member_casual', 'date', 'avgTemp'],\n",
       "      dtype='object')"
      ]
     },
     "execution_count": 21,
     "metadata": {},
     "output_type": "execute_result"
    }
   ],
   "source": [
    "df_merged.columns"
   ]
  },
  {
   "cell_type": "code",
   "execution_count": 23,
   "id": "f74ff462-ed3a-43e7-99ed-7f504cd81ae3",
   "metadata": {},
   "outputs": [],
   "source": [
    "# Groupby the count of the trips \n",
    "\n",
    "df_group = pd.DataFrame(df_merged.groupby(['date'])['ride_id'].count()).reset_index()"
   ]
  },
  {
   "cell_type": "code",
   "execution_count": 25,
   "id": "e674decc-0a8f-442a-a1c5-fe09974e07aa",
   "metadata": {},
   "outputs": [
    {
     "data": {
      "text/html": [
       "<div>\n",
       "<style scoped>\n",
       "    .dataframe tbody tr th:only-of-type {\n",
       "        vertical-align: middle;\n",
       "    }\n",
       "\n",
       "    .dataframe tbody tr th {\n",
       "        vertical-align: top;\n",
       "    }\n",
       "\n",
       "    .dataframe thead th {\n",
       "        text-align: right;\n",
       "    }\n",
       "</style>\n",
       "<table border=\"1\" class=\"dataframe\">\n",
       "  <thead>\n",
       "    <tr style=\"text-align: right;\">\n",
       "      <th></th>\n",
       "      <th>date</th>\n",
       "      <th>ride_id</th>\n",
       "    </tr>\n",
       "  </thead>\n",
       "  <tbody>\n",
       "    <tr>\n",
       "      <th>0</th>\n",
       "      <td>2022-01-01</td>\n",
       "      <td>20895</td>\n",
       "    </tr>\n",
       "    <tr>\n",
       "      <th>1</th>\n",
       "      <td>2022-01-02</td>\n",
       "      <td>44234</td>\n",
       "    </tr>\n",
       "    <tr>\n",
       "      <th>2</th>\n",
       "      <td>2022-01-03</td>\n",
       "      <td>34126</td>\n",
       "    </tr>\n",
       "    <tr>\n",
       "      <th>3</th>\n",
       "      <td>2022-01-04</td>\n",
       "      <td>37879</td>\n",
       "    </tr>\n",
       "    <tr>\n",
       "      <th>4</th>\n",
       "      <td>2022-01-05</td>\n",
       "      <td>35080</td>\n",
       "    </tr>\n",
       "  </tbody>\n",
       "</table>\n",
       "</div>"
      ],
      "text/plain": [
       "        date  ride_id\n",
       "0 2022-01-01    20895\n",
       "1 2022-01-02    44234\n",
       "2 2022-01-03    34126\n",
       "3 2022-01-04    37879\n",
       "4 2022-01-05    35080"
      ]
     },
     "execution_count": 25,
     "metadata": {},
     "output_type": "execute_result"
    }
   ],
   "source": [
    "df_group.head()"
   ]
  },
  {
   "cell_type": "code",
   "execution_count": 26,
   "id": "9dd43d90-1e79-40c8-895c-bd8867946bbf",
   "metadata": {},
   "outputs": [
    {
     "name": "stdout",
     "output_type": "stream",
     "text": [
      "_merge\n",
      "both          30689921\n",
      "left_only            0\n",
      "right_only           0\n",
      "Name: count, dtype: int64\n",
      "Shape of January 1st is (20895, 17)\n",
      "Shape of January 2nd is (44234, 17)\n",
      "Index(['ride_id', 'rideable_type', 'started_at', 'ended_at',\n",
      "       'start_station_name', 'start_station_id', 'end_station_name',\n",
      "       'end_station_id', 'start_lat', 'start_lng', 'end_lat', 'end_lng',\n",
      "       'member_casual', 'avgTemp', 'bike_rides_daily', '_merge'],\n",
      "      dtype='object')\n"
     ]
    }
   ],
   "source": [
    "df_group.rename(columns = {'ride_id':'bike_rides_daily'}, inplace = True)\n",
    "df_merged = df_merged.merge(df_group, on = \"date\", how = 'outer', indicator = True)\n",
    "print(df_merged['_merge'].value_counts(dropna = False))\n",
    "print(\"Shape of January 1st is\", df_merged[df_merged['date'] == '2022-01-01'].shape) # Check \n",
    "print(\"Shape of January 2nd is\", df_merged[df_merged['date'] == '2022-01-02'].shape) # Second check \n",
    "\n",
    "df_temp = df_merged.set_index('date')\n",
    "\n",
    "print(df_temp.columns)"
   ]
  },
  {
   "cell_type": "code",
   "execution_count": 30,
   "id": "2b939907-c02f-493e-ad93-56fc6a2d221a",
   "metadata": {},
   "outputs": [
    {
     "data": {
      "text/html": [
       "<div>\n",
       "<style scoped>\n",
       "    .dataframe tbody tr th:only-of-type {\n",
       "        vertical-align: middle;\n",
       "    }\n",
       "\n",
       "    .dataframe tbody tr th {\n",
       "        vertical-align: top;\n",
       "    }\n",
       "\n",
       "    .dataframe thead th {\n",
       "        text-align: right;\n",
       "    }\n",
       "</style>\n",
       "<table border=\"1\" class=\"dataframe\">\n",
       "  <thead>\n",
       "    <tr style=\"text-align: right;\">\n",
       "      <th></th>\n",
       "      <th>ride_id</th>\n",
       "      <th>rideable_type</th>\n",
       "      <th>started_at</th>\n",
       "      <th>ended_at</th>\n",
       "      <th>start_station_name</th>\n",
       "      <th>start_station_id</th>\n",
       "      <th>end_station_name</th>\n",
       "      <th>end_station_id</th>\n",
       "      <th>start_lat</th>\n",
       "      <th>start_lng</th>\n",
       "      <th>end_lat</th>\n",
       "      <th>end_lng</th>\n",
       "      <th>member_casual</th>\n",
       "      <th>avgTemp</th>\n",
       "      <th>bike_rides_daily</th>\n",
       "      <th>_merge</th>\n",
       "    </tr>\n",
       "    <tr>\n",
       "      <th>date</th>\n",
       "      <th></th>\n",
       "      <th></th>\n",
       "      <th></th>\n",
       "      <th></th>\n",
       "      <th></th>\n",
       "      <th></th>\n",
       "      <th></th>\n",
       "      <th></th>\n",
       "      <th></th>\n",
       "      <th></th>\n",
       "      <th></th>\n",
       "      <th></th>\n",
       "      <th></th>\n",
       "      <th></th>\n",
       "      <th></th>\n",
       "      <th></th>\n",
       "    </tr>\n",
       "  </thead>\n",
       "  <tbody>\n",
       "    <tr>\n",
       "      <th>2022-01-01</th>\n",
       "      <td>68FDAB9B6656A4DF</td>\n",
       "      <td>classic_bike</td>\n",
       "      <td>2022-01-01 05:11:08</td>\n",
       "      <td>2022-01-01 05:15:25</td>\n",
       "      <td>W 21 St &amp; 6 Ave</td>\n",
       "      <td>6140.05</td>\n",
       "      <td>W 11 St &amp; 6 Ave</td>\n",
       "      <td>5914.03</td>\n",
       "      <td>40.741740</td>\n",
       "      <td>-73.994156</td>\n",
       "      <td>40.735324</td>\n",
       "      <td>-73.998004</td>\n",
       "      <td>member</td>\n",
       "      <td>11.6</td>\n",
       "      <td>20895</td>\n",
       "      <td>both</td>\n",
       "    </tr>\n",
       "    <tr>\n",
       "      <th>2022-01-01</th>\n",
       "      <td>91C955306D2CF8A6</td>\n",
       "      <td>electric_bike</td>\n",
       "      <td>2022-01-01 20:54:00</td>\n",
       "      <td>2022-01-01 21:06:39</td>\n",
       "      <td>Bedford Ave &amp; Nassau Ave</td>\n",
       "      <td>5550.05</td>\n",
       "      <td>Sharon St &amp; Olive St</td>\n",
       "      <td>5323.05</td>\n",
       "      <td>40.723117</td>\n",
       "      <td>-73.952123</td>\n",
       "      <td>40.715353</td>\n",
       "      <td>-73.938560</td>\n",
       "      <td>member</td>\n",
       "      <td>11.6</td>\n",
       "      <td>20895</td>\n",
       "      <td>both</td>\n",
       "    </tr>\n",
       "    <tr>\n",
       "      <th>2022-01-01</th>\n",
       "      <td>B379B77AEB677F2A</td>\n",
       "      <td>electric_bike</td>\n",
       "      <td>2022-01-01 15:48:06</td>\n",
       "      <td>2022-01-01 16:44:21</td>\n",
       "      <td>Central Park W &amp; W 91 St</td>\n",
       "      <td>7453.01</td>\n",
       "      <td>5 Ave &amp; E 87 St</td>\n",
       "      <td>7323.09</td>\n",
       "      <td>40.788665</td>\n",
       "      <td>-73.966801</td>\n",
       "      <td>40.782323</td>\n",
       "      <td>-73.959875</td>\n",
       "      <td>casual</td>\n",
       "      <td>11.6</td>\n",
       "      <td>20895</td>\n",
       "      <td>both</td>\n",
       "    </tr>\n",
       "    <tr>\n",
       "      <th>2022-01-01</th>\n",
       "      <td>1F1368CC1EEDA296</td>\n",
       "      <td>electric_bike</td>\n",
       "      <td>2022-01-01 02:32:52</td>\n",
       "      <td>2022-01-01 02:44:51</td>\n",
       "      <td>West End Ave &amp; W 78 St</td>\n",
       "      <td>7340.07</td>\n",
       "      <td>W 44 St &amp; 11 Ave</td>\n",
       "      <td>6756.05</td>\n",
       "      <td>40.783786</td>\n",
       "      <td>-73.981687</td>\n",
       "      <td>40.762009</td>\n",
       "      <td>-73.996975</td>\n",
       "      <td>casual</td>\n",
       "      <td>11.6</td>\n",
       "      <td>20895</td>\n",
       "      <td>both</td>\n",
       "    </tr>\n",
       "    <tr>\n",
       "      <th>2022-01-01</th>\n",
       "      <td>9FE4ABC81014D80D</td>\n",
       "      <td>electric_bike</td>\n",
       "      <td>2022-01-01 17:43:17</td>\n",
       "      <td>2022-01-01 17:52:31</td>\n",
       "      <td>Lawrence St &amp; Willoughby St</td>\n",
       "      <td>4596.09</td>\n",
       "      <td>Carroll St &amp; 6 Ave</td>\n",
       "      <td>4019.06</td>\n",
       "      <td>40.692362</td>\n",
       "      <td>-73.986317</td>\n",
       "      <td>40.674089</td>\n",
       "      <td>-73.978728</td>\n",
       "      <td>member</td>\n",
       "      <td>11.6</td>\n",
       "      <td>20895</td>\n",
       "      <td>both</td>\n",
       "    </tr>\n",
       "  </tbody>\n",
       "</table>\n",
       "</div>"
      ],
      "text/plain": [
       "                     ride_id  rideable_type           started_at  \\\n",
       "date                                                               \n",
       "2022-01-01  68FDAB9B6656A4DF   classic_bike  2022-01-01 05:11:08   \n",
       "2022-01-01  91C955306D2CF8A6  electric_bike  2022-01-01 20:54:00   \n",
       "2022-01-01  B379B77AEB677F2A  electric_bike  2022-01-01 15:48:06   \n",
       "2022-01-01  1F1368CC1EEDA296  electric_bike  2022-01-01 02:32:52   \n",
       "2022-01-01  9FE4ABC81014D80D  electric_bike  2022-01-01 17:43:17   \n",
       "\n",
       "                       ended_at           start_station_name start_station_id  \\\n",
       "date                                                                            \n",
       "2022-01-01  2022-01-01 05:15:25              W 21 St & 6 Ave          6140.05   \n",
       "2022-01-01  2022-01-01 21:06:39     Bedford Ave & Nassau Ave          5550.05   \n",
       "2022-01-01  2022-01-01 16:44:21     Central Park W & W 91 St          7453.01   \n",
       "2022-01-01  2022-01-01 02:44:51       West End Ave & W 78 St          7340.07   \n",
       "2022-01-01  2022-01-01 17:52:31  Lawrence St & Willoughby St          4596.09   \n",
       "\n",
       "                end_station_name end_station_id  start_lat  start_lng  \\\n",
       "date                                                                    \n",
       "2022-01-01       W 11 St & 6 Ave        5914.03  40.741740 -73.994156   \n",
       "2022-01-01  Sharon St & Olive St        5323.05  40.723117 -73.952123   \n",
       "2022-01-01       5 Ave & E 87 St        7323.09  40.788665 -73.966801   \n",
       "2022-01-01      W 44 St & 11 Ave        6756.05  40.783786 -73.981687   \n",
       "2022-01-01    Carroll St & 6 Ave        4019.06  40.692362 -73.986317   \n",
       "\n",
       "              end_lat    end_lng member_casual  avgTemp  bike_rides_daily  \\\n",
       "date                                                                        \n",
       "2022-01-01  40.735324 -73.998004        member     11.6             20895   \n",
       "2022-01-01  40.715353 -73.938560        member     11.6             20895   \n",
       "2022-01-01  40.782323 -73.959875        casual     11.6             20895   \n",
       "2022-01-01  40.762009 -73.996975        casual     11.6             20895   \n",
       "2022-01-01  40.674089 -73.978728        member     11.6             20895   \n",
       "\n",
       "           _merge  \n",
       "date               \n",
       "2022-01-01   both  \n",
       "2022-01-01   both  \n",
       "2022-01-01   both  \n",
       "2022-01-01   both  \n",
       "2022-01-01   both  "
      ]
     },
     "execution_count": 30,
     "metadata": {},
     "output_type": "execute_result"
    }
   ],
   "source": [
    "df_temp.head()"
   ]
  },
  {
   "cell_type": "code",
   "execution_count": null,
   "id": "376e7529-d02a-4e78-8894-7b6fb1998505",
   "metadata": {},
   "outputs": [],
   "source": [
    "df_temp.to_csv('merge_task2point3.csv')"
   ]
  },
  {
   "cell_type": "code",
   "execution_count": null,
   "id": "074f6530-1f0b-4b40-9959-79d86fbef852",
   "metadata": {},
   "outputs": [],
   "source": [
    "#columns_to_keep = ['avgTemp', 'bike_rides_daily']\n",
    "#df_temp_selected = df_temp[columns_to_keep]"
   ]
  },
  {
   "cell_type": "code",
   "execution_count": null,
   "id": "69258540-89f9-4dc4-aa20-2331b3207f80",
   "metadata": {},
   "outputs": [],
   "source": []
  },
  {
   "cell_type": "code",
   "execution_count": null,
   "id": "2f7f4631-0acf-4237-901d-1ee203a546bb",
   "metadata": {},
   "outputs": [],
   "source": []
  }
 ],
 "metadata": {
  "kernelspec": {
   "display_name": "Python 3 (ipykernel)",
   "language": "python",
   "name": "python3"
  },
  "language_info": {
   "codemirror_mode": {
    "name": "ipython",
    "version": 3
   },
   "file_extension": ".py",
   "mimetype": "text/x-python",
   "name": "python",
   "nbconvert_exporter": "python",
   "pygments_lexer": "ipython3",
   "version": "3.11.9"
  }
 },
 "nbformat": 4,
 "nbformat_minor": 5
}
