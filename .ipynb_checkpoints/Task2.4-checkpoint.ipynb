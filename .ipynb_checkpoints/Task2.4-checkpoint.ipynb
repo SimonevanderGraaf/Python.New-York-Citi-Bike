{
 "cells": [
  {
   "cell_type": "code",
   "execution_count": null,
   "id": "ea650517-f750-49e0-b386-aa5cf1022ab1",
   "metadata": {},
   "outputs": [],
   "source": []
  },
  {
   "cell_type": "code",
   "execution_count": null,
   "id": "52e34dca-98d4-4de6-bf72-4f7708755a6e",
   "metadata": {},
   "outputs": [],
   "source": []
  },
  {
   "cell_type": "code",
   "execution_count": null,
   "id": "8134df8e-031d-42c7-8d2a-1690f5d21b81",
   "metadata": {},
   "outputs": [],
   "source": []
  },
  {
   "cell_type": "code",
   "execution_count": null,
   "id": "33a1c94b-1af5-419a-bb36-41dbefdb9939",
   "metadata": {},
   "outputs": [],
   "source": [
    "# read pickle file\n",
    "df = pd.read_pickle('ny_data.pickle')"
   ]
  },
  {
   "cell_type": "code",
   "execution_count": null,
   "id": "dee66455-ad21-43d0-86f6-a16d8227420b",
   "metadata": {},
   "outputs": [],
   "source": [
    "# Convert both columns to a string data type\n",
    "df['start_station_id'] = df['start_station_id'].astype(str)\n",
    "df['end_station_id'] = df['end_station_id'].astype(str)"
   ]
  },
  {
   "cell_type": "code",
   "execution_count": null,
   "id": "c75d6bcc-3efd-4f64-9a09-0ba6b3444fa7",
   "metadata": {},
   "outputs": [],
   "source": [
    "#  all rows from both start_station_id and end_station_id columns that contain points\n",
    "new_df = df[df['start_station_id'].str.contains('\\.') & df['end_station_id'].str.contains('\\.')]"
   ]
  },
  {
   "cell_type": "code",
   "execution_count": null,
   "id": "8ffe2e35-108c-43ee-b55b-98c441dfa277",
   "metadata": {},
   "outputs": [],
   "source": [
    "# filter out all rows from both start_station_id and end_station_id columns that does not contain points\n",
    "df_bad = df[~df['start_station_id'].str.contains('\\.') & ~df['end_station_id'].str.contains('\\.')]"
   ]
  },
  {
   "cell_type": "code",
   "execution_count": null,
   "id": "04399489-64b2-47df-a777-fa0afc9fec8b",
   "metadata": {},
   "outputs": [],
   "source": []
  },
  {
   "cell_type": "code",
   "execution_count": null,
   "id": "2e7b4758-e138-44fe-a048-c29662a0e77a",
   "metadata": {},
   "outputs": [],
   "source": []
  }
 ],
 "metadata": {
  "kernelspec": {
   "display_name": "Python 3 (ipykernel)",
   "language": "python",
   "name": "python3"
  },
  "language_info": {
   "codemirror_mode": {
    "name": "ipython",
    "version": 3
   },
   "file_extension": ".py",
   "mimetype": "text/x-python",
   "name": "python",
   "nbconvert_exporter": "python",
   "pygments_lexer": "ipython3",
   "version": "3.11.9"
  }
 },
 "nbformat": 4,
 "nbformat_minor": 5
}
